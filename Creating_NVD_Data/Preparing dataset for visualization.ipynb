{
 "cells": [
  {
   "cell_type": "code",
   "execution_count": 61,
   "metadata": {
    "collapsed": false
   },
   "outputs": [],
   "source": [
    "import pandas as pd\n",
    "import csv"
   ]
  },
  {
   "cell_type": "code",
   "execution_count": 62,
   "metadata": {
    "collapsed": false
   },
   "outputs": [],
   "source": [
    "File= pd.read_csv(\n",
    "    \"Merged_2002-17.csv\")"
   ]
  },
  {
   "cell_type": "code",
   "execution_count": 63,
   "metadata": {
    "collapsed": false
   },
   "outputs": [],
   "source": [
    "with open('Merged_2002-17.csv','r') as f:\n",
    "    r = csv.reader(f, delimiter=',')\n",
    "    cve_count = {};\n",
    "    cwe_count = {};\n",
    "    for row in r:\n",
    "        year = row[2];\n",
    "        month = row[3];\n",
    "        CWE = row[1];\n",
    "        CVE = row[0];\n",
    "        key = month+\"-\"+year;\n",
    "        \n",
    "        if key in cve_count:\n",
    "            curr = cve_count[key];\n",
    "            cve_count[key] = curr+1;\n",
    "        else:\n",
    "            cve_count[key] = 1;\n",
    "        \n",
    "        if CWE != \"0\":\n",
    "            if key in cwe_count:\n",
    "                curr = cwe_count[key];\n",
    "                cwe_count[key] = curr+1;\n",
    "            else:\n",
    "                cwe_count[key] = 1;\n",
    "        \n"
   ]
  },
  {
   "cell_type": "code",
   "execution_count": 64,
   "metadata": {
    "collapsed": false
   },
   "outputs": [],
   "source": [
    "ratioMap = {};\n",
    "for k,v in cve_count.iteritems():\n",
    "    cve_c = v;\n",
    "    cwe_c = 0;\n",
    "    if k in cwe_count:\n",
    "        #print k,cwe_count[k],v; \n",
    "        cwe_c = cwe_count[k];\n",
    "    ratioMap[k] = round(100 * float(cwe_c)/float(cve_c),2);\n",
    "    "
   ]
  },
  {
   "cell_type": "code",
   "execution_count": 65,
   "metadata": {
    "collapsed": false
   },
   "outputs": [],
   "source": [
    "f = open('ratio1.csv', 'w')\n",
    "for k,v in ratioMap.iteritems():\n",
    "    #print k,v\n",
    "    #keys = k.split('_');\n",
    "    outline = \"{o1},{o3}\\n\".format(o1=k,o3=v);\n",
    "    #print outline;\n",
    "    f.write(outline);\n",
    "f.close();"
   ]
  }
 ],
 "metadata": {
  "kernelspec": {
   "display_name": "Python 2",
   "language": "python",
   "name": "python2"
  },
  "language_info": {
   "codemirror_mode": {
    "name": "ipython",
    "version": 2
   },
   "file_extension": ".py",
   "mimetype": "text/x-python",
   "name": "python",
   "nbconvert_exporter": "python",
   "pygments_lexer": "ipython2",
   "version": "2.7.13"
  }
 },
 "nbformat": 4,
 "nbformat_minor": 2
}
