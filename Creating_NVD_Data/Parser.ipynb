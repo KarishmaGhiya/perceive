{
 "cells": [
  {
   "cell_type": "code",
   "execution_count": 67,
   "metadata": {
    "collapsed": true
   },
   "outputs": [],
   "source": [
    "import xml.etree.ElementTree as ET\n",
    "import csv"
   ]
  },
  {
   "cell_type": "code",
   "execution_count": 149,
   "metadata": {
    "collapsed": false
   },
   "outputs": [],
   "source": [
    "CVE_tree = ET.parse(\"nvdcve-2.0-2017.xml\")\n",
    "CVE_root= CVE_tree.getroot()"
   ]
  },
  {
   "cell_type": "code",
   "execution_count": 116,
   "metadata": {
    "collapsed": false
   },
   "outputs": [
    {
     "name": "stdout",
     "output_type": "stream",
     "text": [
      "<Element '{http://scap.nist.gov/schema/feed/vulnerability/2.0}nvd' at 0x67abda0>\n"
     ]
    }
   ],
   "source": [
    "print (CVE_root)"
   ]
  },
  {
   "cell_type": "code",
   "execution_count": 150,
   "metadata": {
    "collapsed": false
   },
   "outputs": [],
   "source": [
    "f = open('CVE_2017.csv', 'w')"
   ]
  },
  {
   "cell_type": "code",
   "execution_count": 151,
   "metadata": {
    "collapsed": false
   },
   "outputs": [],
   "source": [
    "CVE_count = 0;\n",
    "CVE_listOfId = [];\n",
    "for entry in CVE_root:\n",
    "    cve_id = \"\";\n",
    "    cwe_id = \"\";\n",
    "    modified_date = \"\";\n",
    "    cvss = \"\";\n",
    "    for child in entry:\n",
    "        #print (child.tag)\n",
    "        \n",
    "        if (child.tag == '{http://scap.nist.gov/schema/vulnerability/0.4}cve-id'):\n",
    "            cve_id = child.text;\n",
    "        if (child.tag == '{http://scap.nist.gov/schema/vulnerability/0.4}cwe'):\n",
    "            cwe_id = child.attrib['id'];\n",
    "        if (child.tag == '{http://scap.nist.gov/schema/vulnerability/0.4}cvss'):\n",
    "            cvss = child.text;\n",
    "        if (child.tag == '{http://scap.nist.gov/schema/vulnerability/0.4}published-datetime'):\n",
    "            modified_date = child.text;\n",
    "            \n",
    "    #vuln = cve_id+\",\"+cwe_id+\",\"+modified_date+\",\"+cvss+\"\\n\";\n",
    "    vuln = '{o1},{o2},{o3},{o1}\\n'.format(o1=cve_id,o2=cwe_id,o3=modified_date,o4=cvss);\n",
    "    f.write(vuln);\n",
    "    CVE_count = CVE_count +1;\n",
    "    #print (vuln);\n",
    "    "
   ]
  },
  {
   "cell_type": "code",
   "execution_count": 152,
   "metadata": {
    "collapsed": false
   },
   "outputs": [
    {
     "name": "stdout",
     "output_type": "stream",
     "text": [
      "484\n"
     ]
    }
   ],
   "source": [
    "print (CVE_count)\n",
    "f.close();"
   ]
  },
  {
   "cell_type": "code",
   "execution_count": null,
   "metadata": {
    "collapsed": true
   },
   "outputs": [],
   "source": []
  }
 ],
 "metadata": {
  "kernelspec": {
   "display_name": "Python 2",
   "language": "python",
   "name": "python2"
  },
  "language_info": {
   "codemirror_mode": {
    "name": "ipython",
    "version": 2
   },
   "file_extension": ".py",
   "mimetype": "text/x-python",
   "name": "python",
   "nbconvert_exporter": "python",
   "pygments_lexer": "ipython2",
   "version": "2.7.13"
  }
 },
 "nbformat": 4,
 "nbformat_minor": 0
}
