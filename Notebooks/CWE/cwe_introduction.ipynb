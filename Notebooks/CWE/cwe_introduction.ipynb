{
 "cells": [
  {
   "cell_type": "markdown",
   "metadata": {
    "deletable": true,
    "editable": true
   },
   "source": [
    "# Introduction"
   ]
  },
  {
   "cell_type": "markdown",
   "metadata": {
    "deletable": true,
    "editable": true
   },
   "source": [
    "The CWE table consists of a forest of 4 tables."
   ]
  },
  {
   "cell_type": "code",
   "execution_count": 29,
   "metadata": {
    "collapsed": false,
    "deletable": true,
    "editable": true
   },
   "outputs": [
    {
     "name": "stdout",
     "output_type": "stream",
     "text": [
      "Views\n",
      "Categories\n",
      "Weaknesses\n",
      "Compound_Elements\n"
     ]
    }
   ],
   "source": [
    "import lxml.etree\n",
    "tree = lxml.etree.parse('cwec_v2.9.xml')\n",
    "root = tree.getroot()\n",
    "for table in root: \n",
    "    print table.tag"
   ]
  },
  {
   "cell_type": "markdown",
   "metadata": {
    "deletable": true,
    "editable": true
   },
   "source": [
    "The table we are concerned with is the **Weaknesses** table. I will discuss the others in a later commit. The first thing to observe is that the number of \"columns\" in every \"row\" of this table varies. For instance, let's consider row[0]:"
   ]
  },
  {
   "cell_type": "code",
   "execution_count": 30,
   "metadata": {
    "collapsed": false,
    "deletable": true,
    "editable": true
   },
   "outputs": [
    {
     "name": "stdout",
     "output_type": "stream",
     "text": [
      "Description\n",
      "Relationships\n",
      "Weakness_Ordinalities\n",
      "Applicable_Platforms\n",
      "Time_of_Introduction\n",
      "Common_Consequences\n",
      "Potential_Mitigations\n",
      "Causal_Nature\n",
      "Demonstrative_Examples\n",
      "Taxonomy_Mappings\n",
      "Content_History\n"
     ]
    }
   ],
   "source": [
    "weakness_table = root[2]\n",
    "for row in weakness_table[0]: \n",
    "    print row.tag"
   ]
  },
  {
   "cell_type": "markdown",
   "metadata": {
    "deletable": true,
    "editable": true
   },
   "source": [
    "And now let's consider row 20:"
   ]
  },
  {
   "cell_type": "code",
   "execution_count": 31,
   "metadata": {
    "collapsed": false,
    "deletable": true,
    "editable": true
   },
   "outputs": [
    {
     "name": "stdout",
     "output_type": "stream",
     "text": [
      "Description\n",
      "Relationships\n",
      "Relationship_Notes\n",
      "Weakness_Ordinalities\n",
      "Applicable_Platforms\n",
      "Alternate_Terms\n",
      "Terminology_Notes\n",
      "Time_of_Introduction\n",
      "Likelihood_of_Exploit\n",
      "Common_Consequences\n",
      "Detection_Methods\n",
      "Potential_Mitigations\n",
      "Causal_Nature\n",
      "Demonstrative_Examples\n",
      "Observed_Examples\n",
      "Functional_Areas\n",
      "Affected_Resources\n",
      "References\n",
      "Taxonomy_Mappings\n",
      "White_Box_Definitions\n",
      "Related_Attack_Patterns\n",
      "Content_History\n"
     ]
    }
   ],
   "source": [
    "for row in weakness_table[20]: \n",
    "    print row.tag"
   ]
  },
  {
   "cell_type": "markdown",
   "metadata": {
    "deletable": true,
    "editable": true
   },
   "source": [
    "Since we are interested in creating a histogram of all the fields used, we simple loop through every row of the table, and then loop through every column label counting them as they occur: "
   ]
  },
  {
   "cell_type": "code",
   "execution_count": 32,
   "metadata": {
    "collapsed": false,
    "deletable": true,
    "editable": true
   },
   "outputs": [
    {
     "name": "stdout",
     "output_type": "stream",
     "text": [
      "{'Relationships': 705, 'Affected_Resources': 50, 'Time_of_Introduction': 664, 'Detection_Methods': 76, 'White_Box_Definitions': 29, 'Common_Consequences': 701, 'Background_Details': 41, 'Potential_Mitigations': 523, 'Taxonomy_Mappings': 597, 'Relationship_Notes': 122, 'Description': 718, 'Applicable_Platforms': 556, 'Likelihood_of_Exploit': 184, 'Relevant_Properties': 15, 'Other_Notes': 23, 'Weakness_Ordinalities': 130, 'Observed_Examples': 357, 'Functional_Areas': 27, 'Causal_Nature': 74, 'Related_Attack_Patterns': 206, 'Research_Gaps': 74, 'Alternate_Terms': 65, 'Maintenance_Notes': 86, 'Enabling_Factors_for_Exploitation': 22, 'Theoretical_Notes': 26, 'References': 281, 'Terminology_Notes': 26, 'Demonstrative_Examples': 385, 'Content_History': 718, 'Modes_of_Introduction': 32}\n"
     ]
    }
   ],
   "source": [
    "histogram = {}\n",
    "for row in weakness_table: \n",
    "    for column in row: \n",
    "        if column.tag not in histogram: \n",
    "            histogram[column.tag] = 0\n",
    "        else:\n",
    "            histogram[column.tag] += 1\n",
    "print histogram"
   ]
  },
  {
   "cell_type": "markdown",
   "metadata": {
    "deletable": true,
    "editable": true
   },
   "source": [
    "Next, we plot the histogram: "
   ]
  },
  {
   "cell_type": "code",
   "execution_count": 34,
   "metadata": {
    "collapsed": false,
    "deletable": true,
    "editable": true
   },
   "outputs": [],
   "source": [
    "import numpy as np\n",
    "import pandas as pd\n",
    "from bokeh.plotting import figure, show\n",
    "from bokeh.models import Range1d\n",
    "\n",
    "data = {}\n",
    "data['Entries'] = histogram\n",
    "\n",
    "df_data = pd.DataFrame(data).sort_values(by='Entries', ascending=True)\n",
    "series = df_data.loc[:,'Entries']\n",
    "\n",
    "p = figure(width=800, y_range=series.index.tolist(), title=\"Weaknesses Histogram\")\n",
    "\n",
    "p.xaxis.axis_label = 'Frequency'\n",
    "p.xaxis.axis_label_text_font_size = '10pt'\n",
    "p.xaxis.major_label_text_font_size = '8pt'\n",
    "\n",
    "p.yaxis.axis_label = 'Field'\n",
    "p.yaxis.axis_label_text_font_size = '10pt'\n",
    "p.yaxis.major_label_text_font_size = '8pt'\n",
    "\n",
    "j = 1\n",
    "for k,v in series.iteritems():\n",
    "  \n",
    "  #Print fields, values, orders\n",
    "  #print (k,v,j) \n",
    "  p.rect(x=v/2, y=j, width=abs(v), height=0.4,\n",
    "    width_units=\"data\", height_units=\"data\")\n",
    "  j += 1\n",
    "\n",
    "show(p)"
   ]
  },
  {
   "cell_type": "markdown",
   "metadata": {},
   "source": [
    "And thats it! :-) "
   ]
  }
 ],
 "metadata": {
  "kernelspec": {
   "display_name": "Python 2",
   "language": "python",
   "name": "python2"
  },
  "language_info": {
   "codemirror_mode": {
    "name": "ipython",
    "version": 2
   },
   "file_extension": ".py",
   "mimetype": "text/x-python",
   "name": "python",
   "nbconvert_exporter": "python",
   "pygments_lexer": "ipython2",
   "version": "2.7.13"
  }
 },
 "nbformat": 4,
 "nbformat_minor": 2
}
