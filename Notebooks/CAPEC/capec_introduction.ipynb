{
 "cells": [
  {
   "cell_type": "code",
   "execution_count": null,
   "metadata": {
    "collapsed": false
   },
   "outputs": [],
   "source": [
    "from bokeh.io import output_notebook\n",
    "output_notebook()"
   ]
  },
  {
   "cell_type": "markdown",
   "metadata": {},
   "source": [
    "# Introduction\n",
    "\n",
    "The purpose of this notebook is to document research and analysis done on the Common Attack Pattern Enumeration and Classification (CAPEC) for the ultimate goal of creating a corpus for PERCEIVE.  \n",
    "\n",
    "CAPEC displays its data in two formats: the [CAPEC Website](http://capec.mitre.org/) and the CAPEC XML file.  The CAPEC 2.9 XML file used and its accompanying XML Schema Documentation are both available for download on the website [CAPEC website](http://capec.mitre.org/data/index.html) under \"Release Downloads.\" \n",
    "The representation of the data on the [website](http://capec.mitre.org/data/definitions/1000.html) is easier to navigate and easier to make sense of than the XML file.  The website's interface for the Views allows you to easily explore through the developed hierarchical relationships due to the (+) and (-) buttons that allow you to expand the relationships. For this reason, we use the website to gather general information, but rely on the XML file, which contains the bulk of the infomation in a convenient machine-readable form to gather the important information.\n",
    "\n",
    "After initial examination of the file, we found that the XML contained four root nodes: Views, Categories, Attack Patterns, and Environments.  Each of these root nodes contained subnodes, which we refer to as individual **Entries**.  These Entries have identification numbers and contain numerous subnodes of their own, which we call **Fields**.  These Fields contain the organized information regarding the Entry and are the main focus of our investigation.  \n",
    "\n",
    "The following image attempts to provide an overview of the XML representation of CAPEC.  It visualizes the Root Nodes and the observed Fields used within the entries of those Nodes.  \n",
    "\n",
    "![](capec_simplified_xml_schema.png)"
   ]
  },
  {
   "cell_type": "markdown",
   "metadata": {},
   "source": [
    "Note that Environments is linked to the Attack Execution Flow Field used by Attack Pattern Entries.  This is because this Field uses information noted in the Environments Node.  The information in Environments does not appear to be used for anything else.  [This should be investigated further]  After further analysis of the XML file, we found that the four root nodes had a noticeable hierarchical relationship, which is visualized in diagram linked below."
   ]
  },
  {
   "cell_type": "markdown",
   "metadata": {},
   "source": [
    "## Motivation\n",
    "\n",
    "As mentioned previously, the CAPEC Website is significantly easier to navigate than the XML file.  However, the website does not document the hierarchical rules explicitly.  As a result, we observed the hierarchical relationships and created the following diagram to provide such documentation to aid us in solidifying our understanding of those rules."
   ]
  },
  {
   "cell_type": "code",
   "execution_count": null,
   "metadata": {
    "collapsed": false
   },
   "outputs": [],
   "source": [
    "Image(filename='Types of Nodes and Their Relationships based on Mechanisms and Domains of Attack Views.png')"
   ]
  },
  {
   "cell_type": "markdown",
   "metadata": {},
   "source": [
    "CAPEC entries may have relationships among themselves based on Views, which comprise the highest hierarchical level, as well as relationships to other entries in other levels.\n",
    "\n",
    "The two Views are Mechanisms of Attack Domains of Attack.  Category Entries have  *MemberOf*  relationships to and are separated based on these views depending on whether they pertain to mechanisms employed in exploiting a vulnerability or the domains on which the attacks are perpetrated.\n",
    "\n",
    "Below Category Entries are the Attack Pattern Entries;   It is important to note that there are three types of Attack Pattern Entries: Meta, Standard, and Detailed.  These three terms refer to the level of abstraction in the particular Attack Pattern Entries.  \n",
    "\n",
    "Meta Attack Pattern Entries are directly below Category Entries in the hierarchy and have the *MemberOf* relationship to these Categories.  As the Categories are ways of sorting Attack Patterns, a given Meta Attack Pattern Entry will be a *MemberOf* two categories, one for each View.  Meta Attack Pattern Entries have *Child* nodes that can be either Standard or Detailed Attack Patterns.  These two abstraction types of Attack Patterns do not have a relationship to the Categories.  Standard Attack Pattern Entries may also have their own Child, which will always be a Detailed Attack Pattern.\n",
    "\n",
    "Given that Views and Categories are primarily methods of organizing Attack Patterns, we are specifically interested in the Attack Patterns and the Fields that they contain.  To prepare for extracting information from the text within the Attack Pattern Fields, we must first determine which Fields appear the most, if the most frequent Fields even contain the most important/relevant pieces of information, and the means by which to extract the information from the XML needed to create a corpus."
   ]
  },
  {
   "cell_type": "markdown",
   "metadata": {},
   "source": [
    "# Parsing the XML File\n",
    "\n",
    "As noted in the introduction, we must determine which fields are the most frequently used among Attack Pattern Entries.  The following Python script uses a list of Fields used by the XML which was created through examining the XML's schema documentation and counts the Fields mentioned to return their frequencies in a dictionary.\n",
    "\n",
    "We encountered a special case within the XML representation where the fields **Summary** and **Attack Execution Flow** were under a container **Description** and would not be counted, despite appearing as unique fields on the HTML representation.  Although there was a **Summary** field in every **Description**, this was not the case for **Attack Execution Flow** and provided an inaccurate representation of the data.  As such, the script takes the **Description** tag as a special case and extracts its children instead.  This appears to be a singular case, but in case MITRE repeats this format in the future, keep in mind that these special cases will have to be manually added to the script."
   ]
  },
  {
   "cell_type": "code",
   "execution_count": 3,
   "metadata": {
    "collapsed": false
   },
   "outputs": [
    {
     "name": "stdout",
     "output_type": "stream",
     "text": [
      "{'Keywords': {'Keywords': 1, 'Injection_Vector': 0, 'Resources_Required': 1, 'Target_Attack_Surface': 1, 'Purposes': 0, 'Attack_Prerequisites': 1, 'Probing_Techniques': 0, 'Typical_Severity': 1, 'Relevant_Security_Requirements': 0, 'References': 1, 'Typical_Likelihood_of_Exploit': 0, 'Related_Weaknesses': 0, 'Summary': 0, 'Indicators-Warnings_of_Attack': 0, 'Examples-Instances': 0, 'Related_Security_Principles': 0, 'Methods_of_Attack': 0, 'Technical_Context': 0, 'Related_Attack_Patterns': 1, 'Obfuscation_Techniques': 0, 'Content_History': 1, 'CIA_Impact': 0, 'Activation_Zone': 0, 'Attack_Execution_Flow': 0, 'Attack_Motivation-Consequences': 0, 'Payload': 0, 'Related_Guidelines': 0, 'Related_Vulnerabilities': 0, 'Other_Notes': 0, 'Alternate_Terms': 0, 'Solutions_and_Mitigations': 0, 'Attacker_Skills_or_Knowledge_Required': 0, 'Payload_Activation_Impact': 0}, 'Injection_Vector': {'Keywords': 0, 'Injection_Vector': 185, 'Resources_Required': 180, 'Target_Attack_Surface': 0, 'Purposes': 131, 'Attack_Prerequisites': 178, 'Probing_Techniques': 59, 'Typical_Severity': 183, 'Relevant_Security_Requirements': 35, 'References': 104, 'Typical_Likelihood_of_Exploit': 133, 'Related_Weaknesses': 155, 'Summary': 0, 'Indicators-Warnings_of_Attack': 36, 'Examples-Instances': 130, 'Related_Security_Principles': 65, 'Methods_of_Attack': 130, 'Technical_Context': 130, 'Related_Attack_Patterns': 162, 'Obfuscation_Techniques': 17, 'Content_History': 185, 'CIA_Impact': 130, 'Activation_Zone': 185, 'Attack_Execution_Flow': 0, 'Attack_Motivation-Consequences': 133, 'Payload': 183, 'Related_Guidelines': 42, 'Related_Vulnerabilities': 21, 'Other_Notes': 2, 'Alternate_Terms': 3, 'Solutions_and_Mitigations': 135, 'Attacker_Skills_or_Knowledge_Required': 133, 'Payload_Activation_Impact': 181}, 'Resources_Required': {'Keywords': 1, 'Injection_Vector': 180, 'Resources_Required': 280, 'Target_Attack_Surface': 35, 'Purposes': 140, 'Attack_Prerequisites': 267, 'Probing_Techniques': 62, 'Typical_Severity': 269, 'Relevant_Security_Requirements': 37, 'References': 159, 'Typical_Likelihood_of_Exploit': 142, 'Related_Weaknesses': 198, 'Summary': 0, 'Indicators-Warnings_of_Attack': 33, 'Examples-Instances': 142, 'Related_Security_Principles': 68, 'Methods_of_Attack': 139, 'Technical_Context': 139, 'Related_Attack_Patterns': 242, 'Obfuscation_Techniques': 17, 'Content_History': 280, 'CIA_Impact': 139, 'Activation_Zone': 180, 'Attack_Execution_Flow': 0, 'Attack_Motivation-Consequences': 172, 'Payload': 178, 'Related_Guidelines': 44, 'Related_Vulnerabilities': 32, 'Other_Notes': 3, 'Alternate_Terms': 3, 'Solutions_and_Mitigations': 170, 'Attacker_Skills_or_Knowledge_Required': 153, 'Payload_Activation_Impact': 179}, 'Target_Attack_Surface': {'Keywords': 1, 'Injection_Vector': 0, 'Resources_Required': 35, 'Target_Attack_Surface': 53, 'Purposes': 0, 'Attack_Prerequisites': 42, 'Probing_Techniques': 0, 'Typical_Severity': 53, 'Relevant_Security_Requirements': 0, 'References': 53, 'Typical_Likelihood_of_Exploit': 0, 'Related_Weaknesses': 7, 'Summary': 0, 'Indicators-Warnings_of_Attack': 0, 'Examples-Instances': 0, 'Related_Security_Principles': 0, 'Methods_of_Attack': 0, 'Technical_Context': 0, 'Related_Attack_Patterns': 52, 'Obfuscation_Techniques': 0, 'Content_History': 53, 'CIA_Impact': 0, 'Activation_Zone': 0, 'Attack_Execution_Flow': 0, 'Attack_Motivation-Consequences': 45, 'Payload': 0, 'Related_Guidelines': 0, 'Related_Vulnerabilities': 0, 'Other_Notes': 0, 'Alternate_Terms': 0, 'Solutions_and_Mitigations': 0, 'Attacker_Skills_or_Knowledge_Required': 1, 'Payload_Activation_Impact': 0}, 'Purposes': {'Keywords': 0, 'Injection_Vector': 131, 'Resources_Required': 140, 'Target_Attack_Surface': 0, 'Purposes': 149, 'Attack_Prerequisites': 145, 'Probing_Techniques': 62, 'Typical_Severity': 145, 'Relevant_Security_Requirements': 38, 'References': 106, 'Typical_Likelihood_of_Exploit': 147, 'Related_Weaknesses': 143, 'Summary': 0, 'Indicators-Warnings_of_Attack': 35, 'Examples-Instances': 144, 'Related_Security_Principles': 69, 'Methods_of_Attack': 143, 'Technical_Context': 146, 'Related_Attack_Patterns': 141, 'Obfuscation_Techniques': 17, 'Content_History': 149, 'CIA_Impact': 147, 'Activation_Zone': 131, 'Attack_Execution_Flow': 0, 'Attack_Motivation-Consequences': 146, 'Payload': 129, 'Related_Guidelines': 44, 'Related_Vulnerabilities': 21, 'Other_Notes': 0, 'Alternate_Terms': 2, 'Solutions_and_Mitigations': 146, 'Attacker_Skills_or_Knowledge_Required': 147, 'Payload_Activation_Impact': 127}, 'Attack_Prerequisites': {'Keywords': 1, 'Injection_Vector': 178, 'Resources_Required': 267, 'Target_Attack_Surface': 42, 'Purposes': 145, 'Attack_Prerequisites': 375, 'Probing_Techniques': 61, 'Typical_Severity': 327, 'Relevant_Security_Requirements': 37, 'References': 219, 'Typical_Likelihood_of_Exploit': 174, 'Related_Weaknesses': 220, 'Summary': 0, 'Indicators-Warnings_of_Attack': 35, 'Examples-Instances': 169, 'Related_Security_Principles': 68, 'Methods_of_Attack': 149, 'Technical_Context': 161, 'Related_Attack_Patterns': 338, 'Obfuscation_Techniques': 15, 'Content_History': 375, 'CIA_Impact': 143, 'Activation_Zone': 178, 'Attack_Execution_Flow': 0, 'Attack_Motivation-Consequences': 203, 'Payload': 176, 'Related_Guidelines': 43, 'Related_Vulnerabilities': 34, 'Other_Notes': 1, 'Alternate_Terms': 2, 'Solutions_and_Mitigations': 227, 'Attacker_Skills_or_Knowledge_Required': 202, 'Payload_Activation_Impact': 174}, 'Probing_Techniques': {'Keywords': 0, 'Injection_Vector': 59, 'Resources_Required': 62, 'Target_Attack_Surface': 0, 'Purposes': 62, 'Attack_Prerequisites': 61, 'Probing_Techniques': 63, 'Typical_Severity': 61, 'Relevant_Security_Requirements': 26, 'References': 41, 'Typical_Likelihood_of_Exploit': 63, 'Related_Weaknesses': 63, 'Summary': 0, 'Indicators-Warnings_of_Attack': 23, 'Examples-Instances': 62, 'Related_Security_Principles': 55, 'Methods_of_Attack': 60, 'Technical_Context': 61, 'Related_Attack_Patterns': 60, 'Obfuscation_Techniques': 11, 'Content_History': 63, 'CIA_Impact': 62, 'Activation_Zone': 59, 'Attack_Execution_Flow': 0, 'Attack_Motivation-Consequences': 63, 'Payload': 59, 'Related_Guidelines': 34, 'Related_Vulnerabilities': 12, 'Other_Notes': 0, 'Alternate_Terms': 1, 'Solutions_and_Mitigations': 61, 'Attacker_Skills_or_Knowledge_Required': 62, 'Payload_Activation_Impact': 59}, 'Typical_Severity': {'Keywords': 1, 'Injection_Vector': 183, 'Resources_Required': 269, 'Target_Attack_Surface': 53, 'Purposes': 145, 'Attack_Prerequisites': 327, 'Probing_Techniques': 61, 'Typical_Severity': 391, 'Relevant_Security_Requirements': 37, 'References': 249, 'Typical_Likelihood_of_Exploit': 178, 'Related_Weaknesses': 224, 'Summary': 0, 'Indicators-Warnings_of_Attack': 34, 'Examples-Instances': 165, 'Related_Security_Principles': 68, 'Methods_of_Attack': 149, 'Technical_Context': 162, 'Related_Attack_Patterns': 350, 'Obfuscation_Techniques': 17, 'Content_History': 391, 'CIA_Impact': 144, 'Activation_Zone': 183, 'Attack_Execution_Flow': 0, 'Attack_Motivation-Consequences': 212, 'Payload': 181, 'Related_Guidelines': 44, 'Related_Vulnerabilities': 33, 'Other_Notes': 4, 'Alternate_Terms': 3, 'Solutions_and_Mitigations': 200, 'Attacker_Skills_or_Knowledge_Required': 204, 'Payload_Activation_Impact': 180}, 'Relevant_Security_Requirements': {'Keywords': 0, 'Injection_Vector': 35, 'Resources_Required': 37, 'Target_Attack_Surface': 0, 'Purposes': 38, 'Attack_Prerequisites': 37, 'Probing_Techniques': 26, 'Typical_Severity': 37, 'Relevant_Security_Requirements': 38, 'References': 21, 'Typical_Likelihood_of_Exploit': 37, 'Related_Weaknesses': 38, 'Summary': 0, 'Indicators-Warnings_of_Attack': 14, 'Examples-Instances': 36, 'Related_Security_Principles': 33, 'Methods_of_Attack': 36, 'Technical_Context': 37, 'Related_Attack_Patterns': 37, 'Obfuscation_Techniques': 6, 'Content_History': 38, 'CIA_Impact': 37, 'Activation_Zone': 35, 'Attack_Execution_Flow': 0, 'Attack_Motivation-Consequences': 38, 'Payload': 35, 'Related_Guidelines': 28, 'Related_Vulnerabilities': 7, 'Other_Notes': 0, 'Alternate_Terms': 1, 'Solutions_and_Mitigations': 37, 'Attacker_Skills_or_Knowledge_Required': 37, 'Payload_Activation_Impact': 34}, 'References': {'Keywords': 1, 'Injection_Vector': 104, 'Resources_Required': 159, 'Target_Attack_Surface': 53, 'Purposes': 106, 'Attack_Prerequisites': 219, 'Probing_Techniques': 41, 'Typical_Severity': 249, 'Relevant_Security_Requirements': 21, 'References': 321, 'Typical_Likelihood_of_Exploit': 128, 'Related_Weaknesses': 138, 'Summary': 0, 'Indicators-Warnings_of_Attack': 27, 'Examples-Instances': 126, 'Related_Security_Principles': 44, 'Methods_of_Attack': 108, 'Technical_Context': 111, 'Related_Attack_Patterns': 307, 'Obfuscation_Techniques': 10, 'Content_History': 321, 'CIA_Impact': 105, 'Activation_Zone': 104, 'Attack_Execution_Flow': 0, 'Attack_Motivation-Consequences': 152, 'Payload': 102, 'Related_Guidelines': 24, 'Related_Vulnerabilities': 16, 'Other_Notes': 4, 'Alternate_Terms': 2, 'Solutions_and_Mitigations': 167, 'Attacker_Skills_or_Knowledge_Required': 143, 'Payload_Activation_Impact': 100}, 'Typical_Likelihood_of_Exploit': {'Keywords': 0, 'Injection_Vector': 133, 'Resources_Required': 142, 'Target_Attack_Surface': 0, 'Purposes': 147, 'Attack_Prerequisites': 174, 'Probing_Techniques': 63, 'Typical_Severity': 178, 'Relevant_Security_Requirements': 37, 'References': 128, 'Typical_Likelihood_of_Exploit': 181, 'Related_Weaknesses': 151, 'Summary': 0, 'Indicators-Warnings_of_Attack': 35, 'Examples-Instances': 166, 'Related_Security_Principles': 70, 'Methods_of_Attack': 150, 'Technical_Context': 146, 'Related_Attack_Patterns': 170, 'Obfuscation_Techniques': 16, 'Content_History': 181, 'CIA_Impact': 147, 'Activation_Zone': 133, 'Attack_Execution_Flow': 0, 'Attack_Motivation-Consequences': 150, 'Payload': 131, 'Related_Guidelines': 44, 'Related_Vulnerabilities': 26, 'Other_Notes': 1, 'Alternate_Terms': 2, 'Solutions_and_Mitigations': 155, 'Attacker_Skills_or_Knowledge_Required': 175, 'Payload_Activation_Impact': 129}, 'Related_Weaknesses': {'Keywords': 0, 'Injection_Vector': 155, 'Resources_Required': 198, 'Target_Attack_Surface': 7, 'Purposes': 143, 'Attack_Prerequisites': 220, 'Probing_Techniques': 63, 'Typical_Severity': 224, 'Relevant_Security_Requirements': 38, 'References': 138, 'Typical_Likelihood_of_Exploit': 151, 'Related_Weaknesses': 234, 'Summary': 0, 'Indicators-Warnings_of_Attack': 35, 'Examples-Instances': 145, 'Related_Security_Principles': 70, 'Methods_of_Attack': 146, 'Technical_Context': 152, 'Related_Attack_Patterns': 211, 'Obfuscation_Techniques': 16, 'Content_History': 234, 'CIA_Impact': 142, 'Activation_Zone': 155, 'Attack_Execution_Flow': 0, 'Attack_Motivation-Consequences': 160, 'Payload': 154, 'Related_Guidelines': 45, 'Related_Vulnerabilities': 32, 'Other_Notes': 3, 'Alternate_Terms': 2, 'Solutions_and_Mitigations': 191, 'Attacker_Skills_or_Knowledge_Required': 174, 'Payload_Activation_Impact': 151}, 'Summary': {'Keywords': 0, 'Injection_Vector': 0, 'Resources_Required': 0, 'Target_Attack_Surface': 0, 'Purposes': 0, 'Attack_Prerequisites': 0, 'Probing_Techniques': 0, 'Typical_Severity': 0, 'Relevant_Security_Requirements': 0, 'References': 0, 'Typical_Likelihood_of_Exploit': 0, 'Related_Weaknesses': 0, 'Summary': 0, 'Indicators-Warnings_of_Attack': 0, 'Examples-Instances': 0, 'Related_Security_Principles': 0, 'Methods_of_Attack': 0, 'Technical_Context': 0, 'Related_Attack_Patterns': 0, 'Obfuscation_Techniques': 0, 'Content_History': 0, 'CIA_Impact': 0, 'Activation_Zone': 0, 'Attack_Execution_Flow': 0, 'Attack_Motivation-Consequences': 0, 'Payload': 0, 'Related_Guidelines': 0, 'Related_Vulnerabilities': 0, 'Other_Notes': 0, 'Alternate_Terms': 0, 'Solutions_and_Mitigations': 0, 'Attacker_Skills_or_Knowledge_Required': 0, 'Payload_Activation_Impact': 0}, 'Indicators-Warnings_of_Attack': {'Keywords': 0, 'Injection_Vector': 36, 'Resources_Required': 33, 'Target_Attack_Surface': 0, 'Purposes': 35, 'Attack_Prerequisites': 35, 'Probing_Techniques': 23, 'Typical_Severity': 34, 'Relevant_Security_Requirements': 14, 'References': 27, 'Typical_Likelihood_of_Exploit': 35, 'Related_Weaknesses': 35, 'Summary': 0, 'Indicators-Warnings_of_Attack': 36, 'Examples-Instances': 32, 'Related_Security_Principles': 22, 'Methods_of_Attack': 36, 'Technical_Context': 34, 'Related_Attack_Patterns': 35, 'Obfuscation_Techniques': 15, 'Content_History': 36, 'CIA_Impact': 34, 'Activation_Zone': 36, 'Attack_Execution_Flow': 0, 'Attack_Motivation-Consequences': 36, 'Payload': 36, 'Related_Guidelines': 16, 'Related_Vulnerabilities': 2, 'Other_Notes': 0, 'Alternate_Terms': 0, 'Solutions_and_Mitigations': 36, 'Attacker_Skills_or_Knowledge_Required': 36, 'Payload_Activation_Impact': 33}, 'Examples-Instances': {'Keywords': 0, 'Injection_Vector': 130, 'Resources_Required': 142, 'Target_Attack_Surface': 0, 'Purposes': 144, 'Attack_Prerequisites': 169, 'Probing_Techniques': 62, 'Typical_Severity': 165, 'Relevant_Security_Requirements': 36, 'References': 126, 'Typical_Likelihood_of_Exploit': 166, 'Related_Weaknesses': 145, 'Summary': 0, 'Indicators-Warnings_of_Attack': 32, 'Examples-Instances': 179, 'Related_Security_Principles': 69, 'Methods_of_Attack': 144, 'Technical_Context': 144, 'Related_Attack_Patterns': 170, 'Obfuscation_Techniques': 15, 'Content_History': 179, 'CIA_Impact': 144, 'Activation_Zone': 130, 'Attack_Execution_Flow': 0, 'Attack_Motivation-Consequences': 147, 'Payload': 128, 'Related_Guidelines': 43, 'Related_Vulnerabilities': 21, 'Other_Notes': 0, 'Alternate_Terms': 2, 'Solutions_and_Mitigations': 150, 'Attacker_Skills_or_Knowledge_Required': 168, 'Payload_Activation_Impact': 128}, 'Related_Security_Principles': {'Keywords': 0, 'Injection_Vector': 65, 'Resources_Required': 68, 'Target_Attack_Surface': 0, 'Purposes': 69, 'Attack_Prerequisites': 68, 'Probing_Techniques': 55, 'Typical_Severity': 68, 'Relevant_Security_Requirements': 33, 'References': 44, 'Typical_Likelihood_of_Exploit': 70, 'Related_Weaknesses': 70, 'Summary': 0, 'Indicators-Warnings_of_Attack': 22, 'Examples-Instances': 69, 'Related_Security_Principles': 70, 'Methods_of_Attack': 66, 'Technical_Context': 68, 'Related_Attack_Patterns': 69, 'Obfuscation_Techniques': 12, 'Content_History': 70, 'CIA_Impact': 69, 'Activation_Zone': 65, 'Attack_Execution_Flow': 0, 'Attack_Motivation-Consequences': 70, 'Payload': 65, 'Related_Guidelines': 40, 'Related_Vulnerabilities': 12, 'Other_Notes': 0, 'Alternate_Terms': 1, 'Solutions_and_Mitigations': 68, 'Attacker_Skills_or_Knowledge_Required': 69, 'Payload_Activation_Impact': 64}, 'Methods_of_Attack': {'Keywords': 0, 'Injection_Vector': 130, 'Resources_Required': 139, 'Target_Attack_Surface': 0, 'Purposes': 143, 'Attack_Prerequisites': 149, 'Probing_Techniques': 60, 'Typical_Severity': 149, 'Relevant_Security_Requirements': 36, 'References': 108, 'Typical_Likelihood_of_Exploit': 150, 'Related_Weaknesses': 146, 'Summary': 0, 'Indicators-Warnings_of_Attack': 36, 'Examples-Instances': 144, 'Related_Security_Principles': 66, 'Methods_of_Attack': 153, 'Technical_Context': 142, 'Related_Attack_Patterns': 145, 'Obfuscation_Techniques': 17, 'Content_History': 153, 'CIA_Impact': 142, 'Activation_Zone': 130, 'Attack_Execution_Flow': 0, 'Attack_Motivation-Consequences': 145, 'Payload': 128, 'Related_Guidelines': 42, 'Related_Vulnerabilities': 22, 'Other_Notes': 0, 'Alternate_Terms': 1, 'Solutions_and_Mitigations': 151, 'Attacker_Skills_or_Knowledge_Required': 152, 'Payload_Activation_Impact': 126}, 'Technical_Context': {'Keywords': 0, 'Injection_Vector': 130, 'Resources_Required': 139, 'Target_Attack_Surface': 0, 'Purposes': 146, 'Attack_Prerequisites': 161, 'Probing_Techniques': 61, 'Typical_Severity': 162, 'Relevant_Security_Requirements': 37, 'References': 111, 'Typical_Likelihood_of_Exploit': 146, 'Related_Weaknesses': 152, 'Summary': 0, 'Indicators-Warnings_of_Attack': 34, 'Examples-Instances': 144, 'Related_Security_Principles': 68, 'Methods_of_Attack': 142, 'Technical_Context': 171, 'Related_Attack_Patterns': 163, 'Obfuscation_Techniques': 16, 'Content_History': 171, 'CIA_Impact': 146, 'Activation_Zone': 130, 'Attack_Execution_Flow': 0, 'Attack_Motivation-Consequences': 166, 'Payload': 128, 'Related_Guidelines': 43, 'Related_Vulnerabilities': 20, 'Other_Notes': 0, 'Alternate_Terms': 2, 'Solutions_and_Mitigations': 164, 'Attacker_Skills_or_Knowledge_Required': 166, 'Payload_Activation_Impact': 126}, 'Related_Attack_Patterns': {'Keywords': 1, 'Injection_Vector': 162, 'Resources_Required': 242, 'Target_Attack_Surface': 52, 'Purposes': 141, 'Attack_Prerequisites': 338, 'Probing_Techniques': 60, 'Typical_Severity': 350, 'Relevant_Security_Requirements': 37, 'References': 307, 'Typical_Likelihood_of_Exploit': 170, 'Related_Weaknesses': 211, 'Summary': 0, 'Indicators-Warnings_of_Attack': 35, 'Examples-Instances': 170, 'Related_Security_Principles': 69, 'Methods_of_Attack': 145, 'Technical_Context': 163, 'Related_Attack_Patterns': 464, 'Obfuscation_Techniques': 16, 'Content_History': 464, 'CIA_Impact': 139, 'Activation_Zone': 162, 'Attack_Execution_Flow': 0, 'Attack_Motivation-Consequences': 214, 'Payload': 160, 'Related_Guidelines': 44, 'Related_Vulnerabilities': 35, 'Other_Notes': 3, 'Alternate_Terms': 3, 'Solutions_and_Mitigations': 240, 'Attacker_Skills_or_Knowledge_Required': 205, 'Payload_Activation_Impact': 158}, 'Obfuscation_Techniques': {'Keywords': 0, 'Injection_Vector': 17, 'Resources_Required': 17, 'Target_Attack_Surface': 0, 'Purposes': 17, 'Attack_Prerequisites': 15, 'Probing_Techniques': 11, 'Typical_Severity': 17, 'Relevant_Security_Requirements': 6, 'References': 10, 'Typical_Likelihood_of_Exploit': 16, 'Related_Weaknesses': 16, 'Summary': 0, 'Indicators-Warnings_of_Attack': 15, 'Examples-Instances': 15, 'Related_Security_Principles': 12, 'Methods_of_Attack': 17, 'Technical_Context': 16, 'Related_Attack_Patterns': 16, 'Obfuscation_Techniques': 17, 'Content_History': 17, 'CIA_Impact': 16, 'Activation_Zone': 17, 'Attack_Execution_Flow': 0, 'Attack_Motivation-Consequences': 17, 'Payload': 17, 'Related_Guidelines': 9, 'Related_Vulnerabilities': 3, 'Other_Notes': 0, 'Alternate_Terms': 1, 'Solutions_and_Mitigations': 17, 'Attacker_Skills_or_Knowledge_Required': 17, 'Payload_Activation_Impact': 17}, 'Content_History': {'Keywords': 1, 'Injection_Vector': 185, 'Resources_Required': 280, 'Target_Attack_Surface': 53, 'Purposes': 149, 'Attack_Prerequisites': 375, 'Probing_Techniques': 63, 'Typical_Severity': 391, 'Relevant_Security_Requirements': 38, 'References': 321, 'Typical_Likelihood_of_Exploit': 181, 'Related_Weaknesses': 234, 'Summary': 0, 'Indicators-Warnings_of_Attack': 36, 'Examples-Instances': 179, 'Related_Security_Principles': 70, 'Methods_of_Attack': 153, 'Technical_Context': 171, 'Related_Attack_Patterns': 464, 'Obfuscation_Techniques': 17, 'Content_History': 528, 'CIA_Impact': 147, 'Activation_Zone': 185, 'Attack_Execution_Flow': 0, 'Attack_Motivation-Consequences': 227, 'Payload': 183, 'Related_Guidelines': 45, 'Related_Vulnerabilities': 36, 'Other_Notes': 4, 'Alternate_Terms': 3, 'Solutions_and_Mitigations': 255, 'Attacker_Skills_or_Knowledge_Required': 217, 'Payload_Activation_Impact': 181}, 'CIA_Impact': {'Keywords': 0, 'Injection_Vector': 130, 'Resources_Required': 139, 'Target_Attack_Surface': 0, 'Purposes': 147, 'Attack_Prerequisites': 143, 'Probing_Techniques': 62, 'Typical_Severity': 144, 'Relevant_Security_Requirements': 37, 'References': 105, 'Typical_Likelihood_of_Exploit': 147, 'Related_Weaknesses': 142, 'Summary': 0, 'Indicators-Warnings_of_Attack': 34, 'Examples-Instances': 144, 'Related_Security_Principles': 69, 'Methods_of_Attack': 142, 'Technical_Context': 146, 'Related_Attack_Patterns': 139, 'Obfuscation_Techniques': 16, 'Content_History': 147, 'CIA_Impact': 147, 'Activation_Zone': 130, 'Attack_Execution_Flow': 0, 'Attack_Motivation-Consequences': 145, 'Payload': 128, 'Related_Guidelines': 43, 'Related_Vulnerabilities': 21, 'Other_Notes': 0, 'Alternate_Terms': 2, 'Solutions_and_Mitigations': 145, 'Attacker_Skills_or_Knowledge_Required': 146, 'Payload_Activation_Impact': 126}, 'Activation_Zone': {'Keywords': 0, 'Injection_Vector': 185, 'Resources_Required': 180, 'Target_Attack_Surface': 0, 'Purposes': 131, 'Attack_Prerequisites': 178, 'Probing_Techniques': 59, 'Typical_Severity': 183, 'Relevant_Security_Requirements': 35, 'References': 104, 'Typical_Likelihood_of_Exploit': 133, 'Related_Weaknesses': 155, 'Summary': 0, 'Indicators-Warnings_of_Attack': 36, 'Examples-Instances': 130, 'Related_Security_Principles': 65, 'Methods_of_Attack': 130, 'Technical_Context': 130, 'Related_Attack_Patterns': 162, 'Obfuscation_Techniques': 17, 'Content_History': 185, 'CIA_Impact': 130, 'Activation_Zone': 185, 'Attack_Execution_Flow': 0, 'Attack_Motivation-Consequences': 133, 'Payload': 183, 'Related_Guidelines': 42, 'Related_Vulnerabilities': 21, 'Other_Notes': 2, 'Alternate_Terms': 3, 'Solutions_and_Mitigations': 135, 'Attacker_Skills_or_Knowledge_Required': 133, 'Payload_Activation_Impact': 181}, 'Attack_Execution_Flow': {'Keywords': 0, 'Injection_Vector': 0, 'Resources_Required': 0, 'Target_Attack_Surface': 0, 'Purposes': 0, 'Attack_Prerequisites': 0, 'Probing_Techniques': 0, 'Typical_Severity': 0, 'Relevant_Security_Requirements': 0, 'References': 0, 'Typical_Likelihood_of_Exploit': 0, 'Related_Weaknesses': 0, 'Summary': 0, 'Indicators-Warnings_of_Attack': 0, 'Examples-Instances': 0, 'Related_Security_Principles': 0, 'Methods_of_Attack': 0, 'Technical_Context': 0, 'Related_Attack_Patterns': 0, 'Obfuscation_Techniques': 0, 'Content_History': 0, 'CIA_Impact': 0, 'Activation_Zone': 0, 'Attack_Execution_Flow': 0, 'Attack_Motivation-Consequences': 0, 'Payload': 0, 'Related_Guidelines': 0, 'Related_Vulnerabilities': 0, 'Other_Notes': 0, 'Alternate_Terms': 0, 'Solutions_and_Mitigations': 0, 'Attacker_Skills_or_Knowledge_Required': 0, 'Payload_Activation_Impact': 0}, 'Attack_Motivation-Consequences': {'Keywords': 0, 'Injection_Vector': 133, 'Resources_Required': 172, 'Target_Attack_Surface': 45, 'Purposes': 146, 'Attack_Prerequisites': 203, 'Probing_Techniques': 63, 'Typical_Severity': 212, 'Relevant_Security_Requirements': 38, 'References': 152, 'Typical_Likelihood_of_Exploit': 150, 'Related_Weaknesses': 160, 'Summary': 0, 'Indicators-Warnings_of_Attack': 36, 'Examples-Instances': 147, 'Related_Security_Principles': 70, 'Methods_of_Attack': 145, 'Technical_Context': 166, 'Related_Attack_Patterns': 214, 'Obfuscation_Techniques': 17, 'Content_History': 227, 'CIA_Impact': 145, 'Activation_Zone': 133, 'Attack_Execution_Flow': 0, 'Attack_Motivation-Consequences': 227, 'Payload': 131, 'Related_Guidelines': 45, 'Related_Vulnerabilities': 24, 'Other_Notes': 0, 'Alternate_Terms': 2, 'Solutions_and_Mitigations': 170, 'Attacker_Skills_or_Knowledge_Required': 174, 'Payload_Activation_Impact': 129}, 'Payload': {'Keywords': 0, 'Injection_Vector': 183, 'Resources_Required': 178, 'Target_Attack_Surface': 0, 'Purposes': 129, 'Attack_Prerequisites': 176, 'Probing_Techniques': 59, 'Typical_Severity': 181, 'Relevant_Security_Requirements': 35, 'References': 102, 'Typical_Likelihood_of_Exploit': 131, 'Related_Weaknesses': 154, 'Summary': 0, 'Indicators-Warnings_of_Attack': 36, 'Examples-Instances': 128, 'Related_Security_Principles': 65, 'Methods_of_Attack': 128, 'Technical_Context': 128, 'Related_Attack_Patterns': 160, 'Obfuscation_Techniques': 17, 'Content_History': 183, 'CIA_Impact': 128, 'Activation_Zone': 183, 'Attack_Execution_Flow': 0, 'Attack_Motivation-Consequences': 131, 'Payload': 183, 'Related_Guidelines': 42, 'Related_Vulnerabilities': 21, 'Other_Notes': 2, 'Alternate_Terms': 3, 'Solutions_and_Mitigations': 133, 'Attacker_Skills_or_Knowledge_Required': 131, 'Payload_Activation_Impact': 179}, 'Related_Guidelines': {'Keywords': 0, 'Injection_Vector': 42, 'Resources_Required': 44, 'Target_Attack_Surface': 0, 'Purposes': 44, 'Attack_Prerequisites': 43, 'Probing_Techniques': 34, 'Typical_Severity': 44, 'Relevant_Security_Requirements': 28, 'References': 24, 'Typical_Likelihood_of_Exploit': 44, 'Related_Weaknesses': 45, 'Summary': 0, 'Indicators-Warnings_of_Attack': 16, 'Examples-Instances': 43, 'Related_Security_Principles': 40, 'Methods_of_Attack': 42, 'Technical_Context': 43, 'Related_Attack_Patterns': 44, 'Obfuscation_Techniques': 9, 'Content_History': 45, 'CIA_Impact': 43, 'Activation_Zone': 42, 'Attack_Execution_Flow': 0, 'Attack_Motivation-Consequences': 45, 'Payload': 42, 'Related_Guidelines': 45, 'Related_Vulnerabilities': 11, 'Other_Notes': 0, 'Alternate_Terms': 1, 'Solutions_and_Mitigations': 43, 'Attacker_Skills_or_Knowledge_Required': 44, 'Payload_Activation_Impact': 41}, 'Related_Vulnerabilities': {'Keywords': 0, 'Injection_Vector': 21, 'Resources_Required': 32, 'Target_Attack_Surface': 0, 'Purposes': 21, 'Attack_Prerequisites': 34, 'Probing_Techniques': 12, 'Typical_Severity': 33, 'Relevant_Security_Requirements': 7, 'References': 16, 'Typical_Likelihood_of_Exploit': 26, 'Related_Weaknesses': 32, 'Summary': 0, 'Indicators-Warnings_of_Attack': 2, 'Examples-Instances': 21, 'Related_Security_Principles': 12, 'Methods_of_Attack': 22, 'Technical_Context': 20, 'Related_Attack_Patterns': 35, 'Obfuscation_Techniques': 3, 'Content_History': 36, 'CIA_Impact': 21, 'Activation_Zone': 21, 'Attack_Execution_Flow': 0, 'Attack_Motivation-Consequences': 24, 'Payload': 21, 'Related_Guidelines': 11, 'Related_Vulnerabilities': 36, 'Other_Notes': 0, 'Alternate_Terms': 1, 'Solutions_and_Mitigations': 27, 'Attacker_Skills_or_Knowledge_Required': 26, 'Payload_Activation_Impact': 21}, 'Other_Notes': {'Keywords': 0, 'Injection_Vector': 2, 'Resources_Required': 3, 'Target_Attack_Surface': 0, 'Purposes': 0, 'Attack_Prerequisites': 1, 'Probing_Techniques': 0, 'Typical_Severity': 4, 'Relevant_Security_Requirements': 0, 'References': 4, 'Typical_Likelihood_of_Exploit': 1, 'Related_Weaknesses': 3, 'Summary': 0, 'Indicators-Warnings_of_Attack': 0, 'Examples-Instances': 0, 'Related_Security_Principles': 0, 'Methods_of_Attack': 0, 'Technical_Context': 0, 'Related_Attack_Patterns': 3, 'Obfuscation_Techniques': 0, 'Content_History': 4, 'CIA_Impact': 0, 'Activation_Zone': 2, 'Attack_Execution_Flow': 0, 'Attack_Motivation-Consequences': 0, 'Payload': 2, 'Related_Guidelines': 0, 'Related_Vulnerabilities': 0, 'Other_Notes': 4, 'Alternate_Terms': 0, 'Solutions_and_Mitigations': 1, 'Attacker_Skills_or_Knowledge_Required': 2, 'Payload_Activation_Impact': 2}, 'Alternate_Terms': {'Keywords': 0, 'Injection_Vector': 3, 'Resources_Required': 3, 'Target_Attack_Surface': 0, 'Purposes': 2, 'Attack_Prerequisites': 2, 'Probing_Techniques': 1, 'Typical_Severity': 3, 'Relevant_Security_Requirements': 1, 'References': 2, 'Typical_Likelihood_of_Exploit': 2, 'Related_Weaknesses': 2, 'Summary': 0, 'Indicators-Warnings_of_Attack': 0, 'Examples-Instances': 2, 'Related_Security_Principles': 1, 'Methods_of_Attack': 1, 'Technical_Context': 2, 'Related_Attack_Patterns': 3, 'Obfuscation_Techniques': 1, 'Content_History': 3, 'CIA_Impact': 2, 'Activation_Zone': 3, 'Attack_Execution_Flow': 0, 'Attack_Motivation-Consequences': 2, 'Payload': 3, 'Related_Guidelines': 1, 'Related_Vulnerabilities': 1, 'Other_Notes': 0, 'Alternate_Terms': 3, 'Solutions_and_Mitigations': 2, 'Attacker_Skills_or_Knowledge_Required': 2, 'Payload_Activation_Impact': 3}, 'Solutions_and_Mitigations': {'Keywords': 0, 'Injection_Vector': 135, 'Resources_Required': 170, 'Target_Attack_Surface': 0, 'Purposes': 146, 'Attack_Prerequisites': 227, 'Probing_Techniques': 61, 'Typical_Severity': 200, 'Relevant_Security_Requirements': 37, 'References': 167, 'Typical_Likelihood_of_Exploit': 155, 'Related_Weaknesses': 191, 'Summary': 0, 'Indicators-Warnings_of_Attack': 36, 'Examples-Instances': 150, 'Related_Security_Principles': 68, 'Methods_of_Attack': 151, 'Technical_Context': 164, 'Related_Attack_Patterns': 240, 'Obfuscation_Techniques': 17, 'Content_History': 255, 'CIA_Impact': 145, 'Activation_Zone': 135, 'Attack_Execution_Flow': 0, 'Attack_Motivation-Consequences': 170, 'Payload': 133, 'Related_Guidelines': 43, 'Related_Vulnerabilities': 27, 'Other_Notes': 1, 'Alternate_Terms': 2, 'Solutions_and_Mitigations': 255, 'Attacker_Skills_or_Knowledge_Required': 184, 'Payload_Activation_Impact': 131}, 'Attacker_Skills_or_Knowledge_Required': {'Keywords': 0, 'Injection_Vector': 133, 'Resources_Required': 153, 'Target_Attack_Surface': 1, 'Purposes': 147, 'Attack_Prerequisites': 202, 'Probing_Techniques': 62, 'Typical_Severity': 204, 'Relevant_Security_Requirements': 37, 'References': 143, 'Typical_Likelihood_of_Exploit': 175, 'Related_Weaknesses': 174, 'Summary': 0, 'Indicators-Warnings_of_Attack': 36, 'Examples-Instances': 168, 'Related_Security_Principles': 69, 'Methods_of_Attack': 152, 'Technical_Context': 166, 'Related_Attack_Patterns': 205, 'Obfuscation_Techniques': 17, 'Content_History': 217, 'CIA_Impact': 146, 'Activation_Zone': 133, 'Attack_Execution_Flow': 0, 'Attack_Motivation-Consequences': 174, 'Payload': 131, 'Related_Guidelines': 44, 'Related_Vulnerabilities': 26, 'Other_Notes': 2, 'Alternate_Terms': 2, 'Solutions_and_Mitigations': 184, 'Attacker_Skills_or_Knowledge_Required': 217, 'Payload_Activation_Impact': 129}, 'Payload_Activation_Impact': {'Keywords': 0, 'Injection_Vector': 181, 'Resources_Required': 179, 'Target_Attack_Surface': 0, 'Purposes': 127, 'Attack_Prerequisites': 174, 'Probing_Techniques': 59, 'Typical_Severity': 180, 'Relevant_Security_Requirements': 34, 'References': 100, 'Typical_Likelihood_of_Exploit': 129, 'Related_Weaknesses': 151, 'Summary': 0, 'Indicators-Warnings_of_Attack': 33, 'Examples-Instances': 128, 'Related_Security_Principles': 64, 'Methods_of_Attack': 126, 'Technical_Context': 126, 'Related_Attack_Patterns': 158, 'Obfuscation_Techniques': 17, 'Content_History': 181, 'CIA_Impact': 126, 'Activation_Zone': 181, 'Attack_Execution_Flow': 0, 'Attack_Motivation-Consequences': 129, 'Payload': 179, 'Related_Guidelines': 41, 'Related_Vulnerabilities': 21, 'Other_Notes': 2, 'Alternate_Terms': 3, 'Solutions_and_Mitigations': 131, 'Attacker_Skills_or_Knowledge_Required': 129, 'Payload_Activation_Impact': 181}}\n"
     ]
    }
   ],
   "source": [
    "def extract_label(node):\n",
    "    if node.tag == 'Description':\n",
    "        for label in node:\n",
    "            tag = label.tag\n",
    "            if tag in frequencies:\n",
    "                frequencies[tag] +=1\n",
    "            else:\n",
    "                frequencies[tag] = 1\n",
    "    else:\n",
    "        if node.tag in frequencies:\n",
    "            frequencies[node.tag] += 1 \n",
    "        else:\n",
    "            frequencies[node.tag] = 1\n",
    "\n",
    "\n",
    "##### Single Cooccurence logic - test\n",
    "#for _ in root[2]:\n",
    " #   for column in _:\n",
    "  #          if column.tag  == 'Description':\n",
    "    #            for column in _:\n",
    "   #                 if column.tag == 'References':\n",
    "     #                   pass\n",
    "      #              else:\n",
    "       #                 pass\n",
    "#####\n",
    "\n",
    "            \n",
    "import lxml.etree\n",
    "tree = lxml.etree.parse('capec2.9.xml')\n",
    "root = tree.getroot()\n",
    "\n",
    "##Remove namespaces from XML\n",
    "for elem in root.getiterator():\n",
    "    if not hasattr(elem.tag, 'find'): continue  # (1)\n",
    "    i = elem.tag.find('}')\n",
    "    if i >= 0:\n",
    "        elem.tag = elem.tag[i+1:]\n",
    "\n",
    "#Count fields\n",
    "frequencies = {}\n",
    "for _ in root[2]:\n",
    "    for column in _:\n",
    "        extract_label(column) \n",
    "\n",
    "#Counts co-occurence between field pairs\n",
    "search = {}\n",
    "\n",
    "for keys in frequencies:\n",
    "    search[keys] = {}\n",
    "    for key in frequencies: \n",
    "        search[keys][key] = 0 \n",
    "\n",
    "for fields in search:\n",
    "    for test in search[fields]:\n",
    "        for _ in root[2]:\n",
    "            for column in _:\n",
    "                if column.tag == fields:\n",
    "                    for column in _:\n",
    "                        if column.tag == test:\n",
    "                            search[fields][test] +=1\n",
    "print(search)"
   ]
  },
  {
   "cell_type": "markdown",
   "metadata": {},
   "source": [
    "## Plotting the Frequencies\n",
    "\n",
    "To better visualize the counts returned by parsing the XML file, the following script uses the data stored in the dictionary created previously to plot a histogram."
   ]
  },
  {
   "cell_type": "markdown",
   "metadata": {},
   "source": [
    "## Histogram of Field Frequencies"
   ]
  },
  {
   "cell_type": "code",
   "execution_count": null,
   "metadata": {
    "collapsed": false
   },
   "outputs": [],
   "source": [
    "import numpy as np\n",
    "import pandas as pd\n",
    "from bokeh.plotting import figure, show\n",
    "from bokeh.models import Range1d\n",
    "\n",
    "data = {}\n",
    "data['Entries'] = frequencies\n",
    "\n",
    "type(data)\n",
    "\n",
    "df_data = pd.DataFrame(data).sort_values(by='Entries', ascending='true')\n",
    "series = df_data.loc[:,'Entries']\n",
    "\n",
    "p = figure(width=800, y_range=series.index.tolist(), title=\"Attack Pattern Histogram\")\n",
    "\n",
    "p.xaxis.axis_label = 'Frequency'\n",
    "p.xaxis.axis_label_text_font_size = '10pt'\n",
    "p.xaxis.major_label_text_font_size = '8pt'\n",
    "\n",
    "p.yaxis.axis_label = 'Field'\n",
    "p.yaxis.axis_label_text_font_size = '10pt'\n",
    "p.yaxis.major_label_text_font_size = '8pt'\n",
    "\n",
    "j = 1\n",
    "for k,v in series.iteritems():\n",
    "  \n",
    "  #Print fields, values, orders\n",
    "  #print (k,v,j) \n",
    "  p.rect(x=v/2, y=j, width=abs(v), height=0.4,\n",
    "    width_units=\"data\", height_units=\"data\")\n",
    "  j += 1\n",
    "\n",
    "show(p)\n"
   ]
  },
  {
   "cell_type": "markdown",
   "metadata": {},
   "source": [
    "# Examination of Frequent Fields\n",
    "\n",
    "Now that we know the frequencies of fields in the Attack Pattern table, our next step for extracting the information from the fields is to determine each field's structure and subsequently, our intended method of text extraction.  For this purpose, we set the line of demarkation at 50 instances and investigated the layout of fields that occurred at least 50 times.  There were 24 fields that fit this criterium and 7 fields that did not.  The 7 fields that occur less than 50 times will likely have to be included in our scope of inquiry at a later time since rarity could be an indicator of greater importance rather than lesser, but for now, we have targeted the fields that are voluminous.  Our findings are reported in the table below.  Type names are subject to change and some minimal differences that have little effect on varying extraction methods have been omitted for initial grouping purposes.\n",
    "\n",
    "\n",
    "|Type | Description |Fields|Example\n",
    "|:----:|:----------:|:----:|:--------:|\n",
    "|General Description |Contains one to a few sentences|Injection Vector, Payload, Payload Activation Impact, Examples-Instances, Probing Techniques |Ability to communicate synchronously or asynchronously with server. Optionally, ability to capture output directly through synchronous communication or other method such as FTP. |\n",
    "|Table |Contains rows and columns.  Columns are qualities, rows are individual items  |Content History, Attack Motivation Consequence, CIA Impact, Content History, Related Attack Pattern, Related Weaknesses, Technical Context|![](TechnicalContext.png) |\n",
    "|Single Word or Two Word Descriptor|Low, Medium, High, or Very High | Typical Severity| Medium\n",
    "|Labeled Descriptor|Phrase label followed by a level descriptor|Attack Skills or Knowledge Required|Skill or Knowledge Level: Low|\n",
    "|Labeled Descriptor with Potential Explanation|Single word label sometimes followed by a explanation (27 instances of the explanation tag in the XML)|Typical Likelihood of Exploit|Likelihood: Low <br> The nature of these type of attacks involve a coordinated effort between well-funded multiple attackers, and sometimes require physical access to successfully complete an attack. As a result these types of attacks are not launched on a large scale against any potential victim, but are typically highly targeted against victims who are often targeted and may have rather sophisticated cyber defenses already in place.| \n",
    "|Unordered List|List using bullets|Attack Pre-requisites, Methods of Attack, Purposes, Related Security Principles|<ul style=\"list-style: none\"><li>• Injection</li><li>• Protocol Manipulation</li></ul>|\n",
    "|Citation| Citation format | References|[R.13.2] [REF-3] \"Common Weakness Enumeration (CWE)\". CWE-20 - Input Validation. Draft. The MITRE Corporation. 2007. <http://cwe.mitre.org/data/definitions/20.html>.|\n",
    "|Unbulleted List with Qualified Entries| List with no bullets, frequently has entries that start with a type. | Solutions and Mitigations |To mitigate this type of an attack, an organization can monitor incoming packets and look for patterns in the TCP traffic to determine if the network is under an attack. The potential target may implement a rate limit on TCP SYN messages which would provide limited capabilities while under attack. <br> **OR** <br> Design: Limit program privileges, so if metacharacters or other methods circumvent program input validation routines and shell access is attained then it is not running under a privileged account. chroot jails create a sandbox for the application to execute in, making it more difficult for an attacker to elevate privilege even in the case that a compromise has occurred.<br>Implementation: Implement an audit log that is written to a separate host, in the event of a compromise the audit log may be able to provide evidence and details of the compromise.|\n",
    "|Numbered List and Tables |Numbers and contains a table for each _Attack Step_| Attack Execution Flow|![](AttackExecutionFlow.png) |\n",
    "|Unbulleted List with Single Table |List items are qualifiers.  Last tag contains a table | Target Attack Surface | ![](TargetAttackSurface.png) |\n"
   ]
  },
  {
   "cell_type": "markdown",
   "metadata": {},
   "source": [
    "# Investigating the Content Matter of Fields"
   ]
  },
  {
   "cell_type": "markdown",
   "metadata": {},
   "source": [
    "|Field| Description|CAPEC Example|\n",
    "|:----:|:---------:|:-----------------:|\n",
    "|Attack-Motivation Consequence| The specific desired technical results that the attacker is hoping to achieve, which could be leveraged to achieve their end objective|[CAPEC-1](https://capec.mitre.org/data/definitions/1.html)|\n",
    "|Content History| Identifies the contributor and contributor's comments.  Provides a means of contacting the authors and modifiers for clarification, merging contributions, etc.|[CAPEC-1](https://capec.mitre.org/data/definitions/1.html)|\n",
    "|Summary|Provides a summary description of the attack that includes the attack target and sequence of steps|[CAPEC-1](https://capec.mitre.org/data/definitions/1.html)|\n",
    "|Related Attack Patterns| Contains attack patterns that are dependent on or applied in conjunction with the current attack pattern|[CAPEC-1](https://capec.mitre.org/data/definitions/1.html)|\n",
    "|Typical Severity| Reflects the typical severity of an attack on a scale.  Used to capture an overall typical average value for the type of attack, understanding that it will not be completely accurate for all attacks. |[CAPEC-1](https://capec.mitre.org/data/definitions/1.html)|\n",
    "|Attack Prerequisites| Describes the conditions that must exist or functionality and characteristics that the target software must have, or behavior it must exhibit for the type of attack to succeed|[CAPEC-1](https://capec.mitre.org/data/definitions/1.html)|\n",
    "|References|Contains one or more references, each of which represents a documentary resource used to develop the definition of the attack pattern.  These can provide further reading and insight into the attack pattern|[CAPEC-334](https://capec.mitre.org/data/definitions/334.html)|\n",
    "|Resources Required| Describes the resources (CPU cycles, IP addresses, tools, etc.) needed by an attacker to effectively execute this attack type|[CAPEC-1](https://capec.mitre.org/data/definitions/1.html)|\n",
    "|Solutions and Mitigations|Describes actions or approaches to prevent or mitigate the risk of the attack by improving resilience of the target, reducing the attack surface, or reducing the impact of a successful attack|[CAPEC-1](https://capec.mitre.org/data/definitions/1.html)|\n",
    "|Related Weaknesses| Software weaknesses potentially targeted for exploit by the attack pattern.  Specific weaknesses reference CWE.|[CAPEC-1](https://capec.mitre.org/data/definitions/1.html)|\n",
    "|Attacker Skills or Knowledge Required| Level of skills or specific knowledge required by an attacker to execute the attack type|[CAPEC-1](https://capec.mitre.org/data/definitions/1.html)|\n",
    "|Injection Vector|The mechanism and format of an input-driven attack of the pattern's type.  Considers the attack's grammar, the system's accepted syntax, position of fields, and acceptable ranges of data|[CAPEC-10](https://capec.mitre.org/data/definitions/10.html)|\n",
    "|Payload|Describes code, configuration, or other data to be executed or activated as part of this type of injection-based attack.|[CAPEC-10](https://capec.mitre.org/data/definitions/10.html)|\n",
    "|Typical Likelihood of Exploit| Estimated likelihood of at successful attack, sometimes accompanied by an explanation of the estimate.|[CAPEC-1](https://capec.mitre.org/data/definitions/1.html)/[CAPEC-101](https://capec.mitre.org/data/definitions/101.html)|\n",
    "|Payload Activation Impact|Describes the impact that the activation of the attack payload for an injection-based attack of this type would typically have on confidentiality, integrity, or availability of the target software |[CAPEC-10](https://capec.mitre.org/data/definitions/10.html)|\n",
    "|Examples-Instances| An example instance details an explanatory example or demonstrative exploit instance of the attack.  Used to help the reader understand the nature, context and variabiltiy of the attack in practical/concrete terms|[CAPEC-1](https://capec.mitre.org/data/definitions/1.html)|\n",
    "|Technical Context| The technical context (architectural paradigms, frameworks, platforms, and languages) for which the pattern is applicable|[CAPEC-1](https://capec.mitre.org/data/definitions/1.html)|\n",
    "|Methods of Attack|The defined vectors identifying the mechanisms used in the attack.  Can help define applicable attack surface for the attack|[CAPEC-1](https://capec.mitre.org/data/definitions/1.html)|\n",
    "|Purposes|Intended purpose behind the attack pattern relative to a list of attack objectives.  Used to capture pattern composability and assist with normalization and classification in the catalog|[CAPEC-1](https://capec.mitre.org/data/definitions/1.html)|\n",
    "|CIA Impact| Typical relative impact of the pattern on Confidentiality, Integrity, and Availability of the targeted software|[CAPEC-1](https://capec.mitre.org/data/definitions/1.html)|\n",
    "|Attack Execution Flow|Comprised of Attack Phases.  Phases segment the attack steps: \"Explore,\" \"Experiment,\" and \"Exploit.\"|[CAPEC-1](https://capec.mitre.org/data/definitions/1.html)|\n",
    "|Related Security Principles| Security rules or practices that impede the attack pattern.  Defined as rules and standards for good behavior |[CAPEC-1](https://capec.mitre.org/data/definitions/1.html)|\n",
    "|Probing Techniques|Describes methods used to probe and reconnoiter potential vulnerabilities and/or prepare for attack|[CAPEC-1](https://capec.mitre.org/data/definitions/1.html)|\n",
    "|Target Attack Surface| The locations where the attacker interacts with the target system|[CAPEC-285](https://capec.mitre.org/data/definitions/285.html)|"
   ]
  },
  {
   "cell_type": "markdown",
   "metadata": {},
   "source": [
    "# Preliminary Impression for Field Groupings"
   ]
  },
  {
   "cell_type": "markdown",
   "metadata": {},
   "source": [
    "**Undecided - documentation/context-related?** <br>\n",
    "Content History <br>\n",
    "References <br>\n",
    "Examples-Instances<br>\n",
    "Summary<br>\n",
    "Related Weaknesses<br>\n",
    "Related Attack Patterns<br>\n",
    "\n",
    "**Intent** <br>\n",
    "Attack Motivation-Consequences<br>\n",
    "Purposes<br>\n",
    "\n",
    "**Requirements or Preparatory Steps** <br>\n",
    "Resources Required<br>\n",
    "Attacker Skills or Knowledge Required<br>\n",
    "Probing Techniques (?)<br>\n",
    "Typical Likelihood of Exploit(?) <br>\n",
    "\n",
    "**Attack Execution Mechanisms and Location** <br>\n",
    "Attack Execution Flow<br>\n",
    "Payload<br>\n",
    "Methods of Attack <br>\n",
    "Injection Vector<br>\n",
    "Target Attack Surface<br>\n",
    "Technical Context<br>\n",
    "\n",
    "**Impact of Successful Attack** <br>\n",
    "Payload Activation Impact <br>\n",
    "Typical Severity<br>\n",
    "CIA Impact<br>\n",
    "\n",
    "**Prevention and Mitigation** <br>\n",
    "Solutions and Mitigations<br>\n",
    "Related Security Principles<br>\n",
    "\n"
   ]
  }
 ],
 "metadata": {
  "anaconda-cloud": {},
  "kernelspec": {
   "display_name": "Python [default]",
   "language": "python",
   "name": "python3"
  },
  "language_info": {
   "codemirror_mode": {
    "name": "ipython",
    "version": 3
   },
   "file_extension": ".py",
   "mimetype": "text/x-python",
   "name": "python",
   "nbconvert_exporter": "python",
   "pygments_lexer": "ipython3",
   "version": "3.5.2"
  }
 },
 "nbformat": 4,
 "nbformat_minor": 1
}
