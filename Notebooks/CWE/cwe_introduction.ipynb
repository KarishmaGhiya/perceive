{
 "cells": [
  {
   "cell_type": "markdown",
   "metadata": {
    "deletable": true,
    "editable": true
   },
   "source": [
    "# Introduction"
   ]
  },
  {
   "cell_type": "markdown",
   "metadata": {
    "deletable": true,
    "editable": true
   },
   "source": [
    "The CWE table consists of a forest of 4 tables."
   ]
  },
  {
   "cell_type": "code",
   "execution_count": 2,
   "metadata": {
    "collapsed": false,
    "deletable": true,
    "editable": true
   },
   "outputs": [
    {
     "name": "stdout",
     "output_type": "stream",
     "text": [
      "Views\n",
      "Categories\n",
      "Weaknesses\n",
      "Compound_Elements\n"
     ]
    }
   ],
   "source": [
    "import lxml.etree\n",
    "tree = lxml.etree.parse('cwec_v2.9.xml')\n",
    "root = tree.getroot()\n",
    "for table in root: \n",
    "    print table.tag"
   ]
  },
  {
   "cell_type": "markdown",
   "metadata": {
    "deletable": true,
    "editable": true
   },
   "source": [
    "The table we are concerned with is the **Weaknesses** table. I will discuss the others in a later commit. The first thing to observe is that the number of \"columns\" in every \"row\" of this table varies. For instance, let's consider row[0]:"
   ]
  },
  {
   "cell_type": "code",
   "execution_count": 3,
   "metadata": {
    "collapsed": false,
    "deletable": true,
    "editable": true
   },
   "outputs": [
    {
     "name": "stdout",
     "output_type": "stream",
     "text": [
      "Description\n",
      "Relationships\n",
      "Weakness_Ordinalities\n",
      "Applicable_Platforms\n",
      "Time_of_Introduction\n",
      "Common_Consequences\n",
      "Potential_Mitigations\n",
      "Causal_Nature\n",
      "Demonstrative_Examples\n",
      "Taxonomy_Mappings\n",
      "Content_History\n"
     ]
    }
   ],
   "source": [
    "weakness_table = root[2]\n",
    "for row in weakness_table[0]: \n",
    "    print row.tag"
   ]
  },
  {
   "cell_type": "markdown",
   "metadata": {
    "deletable": true,
    "editable": true
   },
   "source": [
    "And now let's consider row 20:"
   ]
  },
  {
   "cell_type": "code",
   "execution_count": 4,
   "metadata": {
    "collapsed": false,
    "deletable": true,
    "editable": true
   },
   "outputs": [
    {
     "name": "stdout",
     "output_type": "stream",
     "text": [
      "Description\n",
      "Relationships\n",
      "Relationship_Notes\n",
      "Weakness_Ordinalities\n",
      "Applicable_Platforms\n",
      "Alternate_Terms\n",
      "Terminology_Notes\n",
      "Time_of_Introduction\n",
      "Likelihood_of_Exploit\n",
      "Common_Consequences\n",
      "Detection_Methods\n",
      "Potential_Mitigations\n",
      "Causal_Nature\n",
      "Demonstrative_Examples\n",
      "Observed_Examples\n",
      "Functional_Areas\n",
      "Affected_Resources\n",
      "References\n",
      "Taxonomy_Mappings\n",
      "White_Box_Definitions\n",
      "Related_Attack_Patterns\n",
      "Content_History\n"
     ]
    }
   ],
   "source": [
    "for row in weakness_table[20]: \n",
    "    print row.tag"
   ]
  },
  {
   "cell_type": "markdown",
   "metadata": {
    "deletable": true,
    "editable": true
   },
   "source": [
    "Since we are interested in creating a histogram of all the fields used, we simple loop through every row of the table, and then loop through every column label counting them as they occur: "
   ]
  },
  {
   "cell_type": "code",
   "execution_count": 5,
   "metadata": {
    "collapsed": false,
    "deletable": true,
    "editable": true
   },
   "outputs": [
    {
     "name": "stdout",
     "output_type": "stream",
     "text": [
      "{'Relationships': 705, 'Affected_Resources': 50, 'Time_of_Introduction': 664, 'Detection_Methods': 76, 'White_Box_Definitions': 29, 'Common_Consequences': 701, 'Background_Details': 41, 'Potential_Mitigations': 523, 'Taxonomy_Mappings': 597, 'Relationship_Notes': 122, 'Description': 718, 'Applicable_Platforms': 556, 'Likelihood_of_Exploit': 184, 'Relevant_Properties': 15, 'Other_Notes': 23, 'Weakness_Ordinalities': 130, 'Observed_Examples': 357, 'Functional_Areas': 27, 'Causal_Nature': 74, 'Related_Attack_Patterns': 206, 'Research_Gaps': 74, 'Alternate_Terms': 65, 'Maintenance_Notes': 86, 'Enabling_Factors_for_Exploitation': 22, 'Theoretical_Notes': 26, 'References': 281, 'Terminology_Notes': 26, 'Demonstrative_Examples': 385, 'Content_History': 718, 'Modes_of_Introduction': 32}\n"
     ]
    }
   ],
   "source": [
    "histogram = {}\n",
    "for row in weakness_table: \n",
    "    for column in row: \n",
    "        if column.tag not in histogram: \n",
    "            histogram[column.tag] = 0\n",
    "        else:\n",
    "            histogram[column.tag] += 1\n",
    "print histogram"
   ]
  },
  {
   "cell_type": "markdown",
   "metadata": {
    "deletable": true,
    "editable": true
   },
   "source": [
    "Next, we plot the histogram: "
   ]
  },
  {
   "cell_type": "code",
   "execution_count": 9,
   "metadata": {
    "collapsed": false,
    "deletable": true,
    "editable": true
   },
   "outputs": [
    {
     "data": {
      "text/html": [
       "\n",
       "    <div class=\"bk-root\">\n",
       "        <a href=\"http://bokeh.pydata.org\" target=\"_blank\" class=\"bk-logo bk-logo-small bk-logo-notebook\"></a>\n",
       "        <span id=\"bc344b0b-ce57-4367-bf6b-60bee731f5fb\">Loading BokehJS ...</span>\n",
       "    </div>"
      ]
     },
     "metadata": {},
     "output_type": "display_data"
    },
    {
     "data": {
      "application/javascript": [
       "\n",
       "(function(global) {\n",
       "  function now() {\n",
       "    return new Date();\n",
       "  }\n",
       "\n",
       "  var force = true;\n",
       "\n",
       "  if (typeof (window._bokeh_onload_callbacks) === \"undefined\" || force === true) {\n",
       "    window._bokeh_onload_callbacks = [];\n",
       "    window._bokeh_is_loading = undefined;\n",
       "  }\n",
       "\n",
       "\n",
       "  \n",
       "  if (typeof (window._bokeh_timeout) === \"undefined\" || force === true) {\n",
       "    window._bokeh_timeout = Date.now() + 5000;\n",
       "    window._bokeh_failed_load = false;\n",
       "  }\n",
       "\n",
       "  var NB_LOAD_WARNING = {'data': {'text/html':\n",
       "     \"<div style='background-color: #fdd'>\\n\"+\n",
       "     \"<p>\\n\"+\n",
       "     \"BokehJS does not appear to have successfully loaded. If loading BokehJS from CDN, this \\n\"+\n",
       "     \"may be due to a slow or bad network connection. Possible fixes:\\n\"+\n",
       "     \"</p>\\n\"+\n",
       "     \"<ul>\\n\"+\n",
       "     \"<li>re-rerun `output_notebook()` to attempt to load from CDN again, or</li>\\n\"+\n",
       "     \"<li>use INLINE resources instead, as so:</li>\\n\"+\n",
       "     \"</ul>\\n\"+\n",
       "     \"<code>\\n\"+\n",
       "     \"from bokeh.resources import INLINE\\n\"+\n",
       "     \"output_notebook(resources=INLINE)\\n\"+\n",
       "     \"</code>\\n\"+\n",
       "     \"</div>\"}};\n",
       "\n",
       "  function display_loaded() {\n",
       "    if (window.Bokeh !== undefined) {\n",
       "      document.getElementById(\"bc344b0b-ce57-4367-bf6b-60bee731f5fb\").textContent = \"BokehJS successfully loaded.\";\n",
       "    } else if (Date.now() < window._bokeh_timeout) {\n",
       "      setTimeout(display_loaded, 100)\n",
       "    }\n",
       "  }\n",
       "\n",
       "  function run_callbacks() {\n",
       "    window._bokeh_onload_callbacks.forEach(function(callback) { callback() });\n",
       "    delete window._bokeh_onload_callbacks\n",
       "    console.info(\"Bokeh: all callbacks have finished\");\n",
       "  }\n",
       "\n",
       "  function load_libs(js_urls, callback) {\n",
       "    window._bokeh_onload_callbacks.push(callback);\n",
       "    if (window._bokeh_is_loading > 0) {\n",
       "      console.log(\"Bokeh: BokehJS is being loaded, scheduling callback at\", now());\n",
       "      return null;\n",
       "    }\n",
       "    if (js_urls == null || js_urls.length === 0) {\n",
       "      run_callbacks();\n",
       "      return null;\n",
       "    }\n",
       "    console.log(\"Bokeh: BokehJS not loaded, scheduling load and callback at\", now());\n",
       "    window._bokeh_is_loading = js_urls.length;\n",
       "    for (var i = 0; i < js_urls.length; i++) {\n",
       "      var url = js_urls[i];\n",
       "      var s = document.createElement('script');\n",
       "      s.src = url;\n",
       "      s.async = false;\n",
       "      s.onreadystatechange = s.onload = function() {\n",
       "        window._bokeh_is_loading--;\n",
       "        if (window._bokeh_is_loading === 0) {\n",
       "          console.log(\"Bokeh: all BokehJS libraries loaded\");\n",
       "          run_callbacks()\n",
       "        }\n",
       "      };\n",
       "      s.onerror = function() {\n",
       "        console.warn(\"failed to load library \" + url);\n",
       "      };\n",
       "      console.log(\"Bokeh: injecting script tag for BokehJS library: \", url);\n",
       "      document.getElementsByTagName(\"head\")[0].appendChild(s);\n",
       "    }\n",
       "  };var element = document.getElementById(\"bc344b0b-ce57-4367-bf6b-60bee731f5fb\");\n",
       "  if (element == null) {\n",
       "    console.log(\"Bokeh: ERROR: autoload.js configured with elementid 'bc344b0b-ce57-4367-bf6b-60bee731f5fb' but no matching script tag was found. \")\n",
       "    return false;\n",
       "  }\n",
       "\n",
       "  var js_urls = [\"https://cdn.pydata.org/bokeh/release/bokeh-0.12.4.min.js\", \"https://cdn.pydata.org/bokeh/release/bokeh-widgets-0.12.4.min.js\"];\n",
       "\n",
       "  var inline_js = [\n",
       "    function(Bokeh) {\n",
       "      Bokeh.set_log_level(\"info\");\n",
       "    },\n",
       "    \n",
       "    function(Bokeh) {\n",
       "      \n",
       "      document.getElementById(\"bc344b0b-ce57-4367-bf6b-60bee731f5fb\").textContent = \"BokehJS is loading...\";\n",
       "    },\n",
       "    function(Bokeh) {\n",
       "      console.log(\"Bokeh: injecting CSS: https://cdn.pydata.org/bokeh/release/bokeh-0.12.4.min.css\");\n",
       "      Bokeh.embed.inject_css(\"https://cdn.pydata.org/bokeh/release/bokeh-0.12.4.min.css\");\n",
       "      console.log(\"Bokeh: injecting CSS: https://cdn.pydata.org/bokeh/release/bokeh-widgets-0.12.4.min.css\");\n",
       "      Bokeh.embed.inject_css(\"https://cdn.pydata.org/bokeh/release/bokeh-widgets-0.12.4.min.css\");\n",
       "    }\n",
       "  ];\n",
       "\n",
       "  function run_inline_js() {\n",
       "    \n",
       "    if ((window.Bokeh !== undefined) || (force === true)) {\n",
       "      for (var i = 0; i < inline_js.length; i++) {\n",
       "        inline_js[i](window.Bokeh);\n",
       "      }if (force === true) {\n",
       "        display_loaded();\n",
       "      }} else if (Date.now() < window._bokeh_timeout) {\n",
       "      setTimeout(run_inline_js, 100);\n",
       "    } else if (!window._bokeh_failed_load) {\n",
       "      console.log(\"Bokeh: BokehJS failed to load within specified timeout.\");\n",
       "      window._bokeh_failed_load = true;\n",
       "    } else if (force !== true) {\n",
       "      var cell = $(document.getElementById(\"bc344b0b-ce57-4367-bf6b-60bee731f5fb\")).parents('.cell').data().cell;\n",
       "      cell.output_area.append_execute_result(NB_LOAD_WARNING)\n",
       "    }\n",
       "\n",
       "  }\n",
       "\n",
       "  if (window._bokeh_is_loading === 0) {\n",
       "    console.log(\"Bokeh: BokehJS loaded, going straight to plotting\");\n",
       "    run_inline_js();\n",
       "  } else {\n",
       "    load_libs(js_urls, function() {\n",
       "      console.log(\"Bokeh: BokehJS plotting callback run at\", now());\n",
       "      run_inline_js();\n",
       "    });\n",
       "  }\n",
       "}(this));"
      ]
     },
     "metadata": {},
     "output_type": "display_data"
    }
   ],
   "source": [
    "import numpy as np\n",
    "import pandas as pd\n",
    "from bokeh.plotting import figure, show\n",
    "from bokeh.models import Range1d\n",
    "from bokeh.io import output_notebook\n",
    "output_notebook() #So plots\n",
    "\n",
    "data = {}\n",
    "data['Entries'] = histogram\n",
    "\n",
    "df_data = pd.DataFrame(data).sort_values(by='Entries', ascending=True)\n",
    "series = df_data.loc[:,'Entries']\n",
    "\n",
    "p = figure(width=800, y_range=series.index.tolist(), title=\"Weaknesses Histogram\")\n",
    "\n",
    "p.xaxis.axis_label = 'Frequency'\n",
    "p.xaxis.axis_label_text_font_size = '10pt'\n",
    "p.xaxis.major_label_text_font_size = '8pt'\n",
    "\n",
    "p.yaxis.axis_label = 'Field'\n",
    "p.yaxis.axis_label_text_font_size = '10pt'\n",
    "p.yaxis.major_label_text_font_size = '8pt'\n",
    "\n",
    "j = 1\n",
    "for k,v in series.iteritems():\n",
    "  \n",
    "  #Print fields, values, orders\n",
    "  #print (k,v,j) \n",
    "  p.rect(x=v/2, y=j, width=abs(v), height=0.4,\n",
    "    width_units=\"data\", height_units=\"data\")\n",
    "  j += 1"
   ]
  },
  {
   "cell_type": "code",
   "execution_count": 10,
   "metadata": {
    "collapsed": false
   },
   "outputs": [
    {
     "data": {
      "text/html": [
       "\n",
       "\n",
       "    <div class=\"bk-root\">\n",
       "        <div class=\"bk-plotdiv\" id=\"c8b0004d-7ee1-4a05-aa3e-122023fb6239\"></div>\n",
       "    </div>\n",
       "<script type=\"text/javascript\">\n",
       "  \n",
       "  (function(global) {\n",
       "    function now() {\n",
       "      return new Date();\n",
       "    }\n",
       "  \n",
       "    var force = false;\n",
       "  \n",
       "    if (typeof (window._bokeh_onload_callbacks) === \"undefined\" || force === true) {\n",
       "      window._bokeh_onload_callbacks = [];\n",
       "      window._bokeh_is_loading = undefined;\n",
       "    }\n",
       "  \n",
       "  \n",
       "    \n",
       "    if (typeof (window._bokeh_timeout) === \"undefined\" || force === true) {\n",
       "      window._bokeh_timeout = Date.now() + 0;\n",
       "      window._bokeh_failed_load = false;\n",
       "    }\n",
       "  \n",
       "    var NB_LOAD_WARNING = {'data': {'text/html':\n",
       "       \"<div style='background-color: #fdd'>\\n\"+\n",
       "       \"<p>\\n\"+\n",
       "       \"BokehJS does not appear to have successfully loaded. If loading BokehJS from CDN, this \\n\"+\n",
       "       \"may be due to a slow or bad network connection. Possible fixes:\\n\"+\n",
       "       \"</p>\\n\"+\n",
       "       \"<ul>\\n\"+\n",
       "       \"<li>re-rerun `output_notebook()` to attempt to load from CDN again, or</li>\\n\"+\n",
       "       \"<li>use INLINE resources instead, as so:</li>\\n\"+\n",
       "       \"</ul>\\n\"+\n",
       "       \"<code>\\n\"+\n",
       "       \"from bokeh.resources import INLINE\\n\"+\n",
       "       \"output_notebook(resources=INLINE)\\n\"+\n",
       "       \"</code>\\n\"+\n",
       "       \"</div>\"}};\n",
       "  \n",
       "    function display_loaded() {\n",
       "      if (window.Bokeh !== undefined) {\n",
       "        document.getElementById(\"c8b0004d-7ee1-4a05-aa3e-122023fb6239\").textContent = \"BokehJS successfully loaded.\";\n",
       "      } else if (Date.now() < window._bokeh_timeout) {\n",
       "        setTimeout(display_loaded, 100)\n",
       "      }\n",
       "    }\n",
       "  \n",
       "    function run_callbacks() {\n",
       "      window._bokeh_onload_callbacks.forEach(function(callback) { callback() });\n",
       "      delete window._bokeh_onload_callbacks\n",
       "      console.info(\"Bokeh: all callbacks have finished\");\n",
       "    }\n",
       "  \n",
       "    function load_libs(js_urls, callback) {\n",
       "      window._bokeh_onload_callbacks.push(callback);\n",
       "      if (window._bokeh_is_loading > 0) {\n",
       "        console.log(\"Bokeh: BokehJS is being loaded, scheduling callback at\", now());\n",
       "        return null;\n",
       "      }\n",
       "      if (js_urls == null || js_urls.length === 0) {\n",
       "        run_callbacks();\n",
       "        return null;\n",
       "      }\n",
       "      console.log(\"Bokeh: BokehJS not loaded, scheduling load and callback at\", now());\n",
       "      window._bokeh_is_loading = js_urls.length;\n",
       "      for (var i = 0; i < js_urls.length; i++) {\n",
       "        var url = js_urls[i];\n",
       "        var s = document.createElement('script');\n",
       "        s.src = url;\n",
       "        s.async = false;\n",
       "        s.onreadystatechange = s.onload = function() {\n",
       "          window._bokeh_is_loading--;\n",
       "          if (window._bokeh_is_loading === 0) {\n",
       "            console.log(\"Bokeh: all BokehJS libraries loaded\");\n",
       "            run_callbacks()\n",
       "          }\n",
       "        };\n",
       "        s.onerror = function() {\n",
       "          console.warn(\"failed to load library \" + url);\n",
       "        };\n",
       "        console.log(\"Bokeh: injecting script tag for BokehJS library: \", url);\n",
       "        document.getElementsByTagName(\"head\")[0].appendChild(s);\n",
       "      }\n",
       "    };var element = document.getElementById(\"c8b0004d-7ee1-4a05-aa3e-122023fb6239\");\n",
       "    if (element == null) {\n",
       "      console.log(\"Bokeh: ERROR: autoload.js configured with elementid 'c8b0004d-7ee1-4a05-aa3e-122023fb6239' but no matching script tag was found. \")\n",
       "      return false;\n",
       "    }\n",
       "  \n",
       "    var js_urls = [];\n",
       "  \n",
       "    var inline_js = [\n",
       "      function(Bokeh) {\n",
       "        (function() {\n",
       "          var fn = function() {\n",
       "            var docs_json = {\"3e65d7ac-b693-4c48-8351-d76710b174e6\":{\"roots\":{\"references\":[{\"attributes\":{\"data_source\":{\"id\":\"0b9740c2-9210-44c1-a1e6-c3ad8160eb34\",\"type\":\"ColumnDataSource\"},\"glyph\":{\"id\":\"7b273052-703a-4217-9ed9-71e58f7129d8\",\"type\":\"Rect\"},\"hover_glyph\":null,\"nonselection_glyph\":{\"id\":\"3722feac-1bef-49c2-84c8-3b369052dd04\",\"type\":\"Rect\"},\"selection_glyph\":null},\"id\":\"aa76f9c0-cd6f-4baf-bb21-21c9de6cafa3\",\"type\":\"GlyphRenderer\"},{\"attributes\":{\"fill_color\":{\"value\":\"#1f77b4\"},\"height\":{\"units\":\"data\",\"value\":0.4},\"line_color\":{\"value\":\"#1f77b4\"},\"width\":{\"units\":\"data\",\"value\":41},\"x\":{\"value\":20},\"y\":{\"value\":9}},\"id\":\"a5fb5828-2be8-4e57-8672-e60135997b39\",\"type\":\"Rect\"},{\"attributes\":{\"callback\":null,\"factors\":[\"Relevant_Properties\",\"Enabling_Factors_for_Exploitation\",\"Other_Notes\",\"Theoretical_Notes\",\"Terminology_Notes\",\"Functional_Areas\",\"White_Box_Definitions\",\"Modes_of_Introduction\",\"Background_Details\",\"Affected_Resources\",\"Alternate_Terms\",\"Research_Gaps\",\"Causal_Nature\",\"Detection_Methods\",\"Maintenance_Notes\",\"Relationship_Notes\",\"Weakness_Ordinalities\",\"Likelihood_of_Exploit\",\"Related_Attack_Patterns\",\"References\",\"Observed_Examples\",\"Demonstrative_Examples\",\"Potential_Mitigations\",\"Applicable_Platforms\",\"Taxonomy_Mappings\",\"Time_of_Introduction\",\"Common_Consequences\",\"Relationships\",\"Content_History\",\"Description\"]},\"id\":\"944c95c2-630d-4f09-a3b0-6d237fa1c322\",\"type\":\"FactorRange\"},{\"attributes\":{\"data_source\":{\"id\":\"973eba04-157f-4da4-8d31-29df28291db8\",\"type\":\"ColumnDataSource\"},\"glyph\":{\"id\":\"8be012f3-b888-4795-83b3-3813c39d7b4e\",\"type\":\"Rect\"},\"hover_glyph\":null,\"nonselection_glyph\":{\"id\":\"05c7694c-7ddd-464f-b455-ad4e060923a7\",\"type\":\"Rect\"},\"selection_glyph\":null},\"id\":\"87190426-da3e-45b5-a825-162db7cab3d7\",\"type\":\"GlyphRenderer\"},{\"attributes\":{\"callback\":null},\"id\":\"fe4f1373-0af0-4c82-8622-1060c0d0f17f\",\"type\":\"ColumnDataSource\"},{\"attributes\":{\"fill_color\":{\"value\":\"#1f77b4\"},\"height\":{\"units\":\"data\",\"value\":0.4},\"line_color\":{\"value\":\"#1f77b4\"},\"width\":{\"units\":\"data\",\"value\":86},\"x\":{\"value\":43},\"y\":{\"value\":15}},\"id\":\"9fae7c05-3863-459f-ae55-ef2ffb130bbd\",\"type\":\"Rect\"},{\"attributes\":{\"data_source\":{\"id\":\"c8994ed4-655d-40e9-b1af-e219ed7b9362\",\"type\":\"ColumnDataSource\"},\"glyph\":{\"id\":\"d2162a52-71f4-4d4d-8491-5ec55369c296\",\"type\":\"Rect\"},\"hover_glyph\":null,\"nonselection_glyph\":{\"id\":\"4cf27630-f460-4a9b-b08c-d6307e1533d2\",\"type\":\"Rect\"},\"selection_glyph\":null},\"id\":\"3efda6ad-1b92-40fb-979a-88aa2f58fa91\",\"type\":\"GlyphRenderer\"},{\"attributes\":{\"fill_alpha\":{\"value\":0.1},\"fill_color\":{\"value\":\"#1f77b4\"},\"height\":{\"units\":\"data\",\"value\":0.4},\"line_alpha\":{\"value\":0.1},\"line_color\":{\"value\":\"#1f77b4\"},\"width\":{\"units\":\"data\",\"value\":701},\"x\":{\"value\":350},\"y\":{\"value\":27}},\"id\":\"4dd37fe8-6970-4882-9e5f-f5bcef8bd862\",\"type\":\"Rect\"},{\"attributes\":{\"callback\":null},\"id\":\"64acc1a7-b914-42fa-bf21-da7d8b9f450d\",\"type\":\"ColumnDataSource\"},{\"attributes\":{},\"id\":\"9afd2e1b-65d3-4a7f-a446-c3168584471c\",\"type\":\"ToolEvents\"},{\"attributes\":{\"data_source\":{\"id\":\"c1d237b4-d39e-410d-95e1-0c52e035ce6d\",\"type\":\"ColumnDataSource\"},\"glyph\":{\"id\":\"00ef2e9b-17a7-4921-a33c-aca9354212c7\",\"type\":\"Rect\"},\"hover_glyph\":null,\"nonselection_glyph\":{\"id\":\"9a15605f-73b9-4cce-87c3-f06ae192427f\",\"type\":\"Rect\"},\"selection_glyph\":null},\"id\":\"aca4cfce-881b-4be4-b4fa-bc9b7bc833db\",\"type\":\"GlyphRenderer\"},{\"attributes\":{\"plot\":null,\"text\":\"Weaknesses Histogram\"},\"id\":\"4209c28d-7960-4f77-96fd-e6a80012ab57\",\"type\":\"Title\"},{\"attributes\":{\"callback\":null},\"id\":\"f612af91-dd65-49e4-9e51-f1546b3294c5\",\"type\":\"ColumnDataSource\"},{\"attributes\":{\"fill_alpha\":{\"value\":0.1},\"fill_color\":{\"value\":\"#1f77b4\"},\"height\":{\"units\":\"data\",\"value\":0.4},\"line_alpha\":{\"value\":0.1},\"line_color\":{\"value\":\"#1f77b4\"},\"width\":{\"units\":\"data\",\"value\":50},\"x\":{\"value\":25},\"y\":{\"value\":10}},\"id\":\"3722feac-1bef-49c2-84c8-3b369052dd04\",\"type\":\"Rect\"},{\"attributes\":{\"fill_alpha\":{\"value\":0.1},\"fill_color\":{\"value\":\"#1f77b4\"},\"height\":{\"units\":\"data\",\"value\":0.4},\"line_alpha\":{\"value\":0.1},\"line_color\":{\"value\":\"#1f77b4\"},\"width\":{\"units\":\"data\",\"value\":22},\"x\":{\"value\":11},\"y\":{\"value\":2}},\"id\":\"4cf27630-f460-4a9b-b08c-d6307e1533d2\",\"type\":\"Rect\"},{\"attributes\":{\"data_source\":{\"id\":\"700eda8f-8d80-4da7-99d3-ca8b78099eb9\",\"type\":\"ColumnDataSource\"},\"glyph\":{\"id\":\"6f03eef5-e799-41ac-a191-cf84434a1299\",\"type\":\"Rect\"},\"hover_glyph\":null,\"nonselection_glyph\":{\"id\":\"1b897bea-3ad4-4816-a637-97f8c99cb05a\",\"type\":\"Rect\"},\"selection_glyph\":null},\"id\":\"8819216f-a5bf-46dd-b880-fd7f31827395\",\"type\":\"GlyphRenderer\"},{\"attributes\":{\"fill_alpha\":{\"value\":0.1},\"fill_color\":{\"value\":\"#1f77b4\"},\"height\":{\"units\":\"data\",\"value\":0.4},\"line_alpha\":{\"value\":0.1},\"line_color\":{\"value\":\"#1f77b4\"},\"width\":{\"units\":\"data\",\"value\":184},\"x\":{\"value\":92},\"y\":{\"value\":18}},\"id\":\"05c7694c-7ddd-464f-b455-ad4e060923a7\",\"type\":\"Rect\"},{\"attributes\":{\"fill_color\":{\"value\":\"#1f77b4\"},\"height\":{\"units\":\"data\",\"value\":0.4},\"line_color\":{\"value\":\"#1f77b4\"},\"width\":{\"units\":\"data\",\"value\":26},\"x\":{\"value\":13},\"y\":{\"value\":5}},\"id\":\"5c1e86df-a816-4194-a577-5b8ec319a177\",\"type\":\"Rect\"},{\"attributes\":{\"fill_color\":{\"value\":\"#1f77b4\"},\"height\":{\"units\":\"data\",\"value\":0.4},\"line_color\":{\"value\":\"#1f77b4\"},\"width\":{\"units\":\"data\",\"value\":556},\"x\":{\"value\":278},\"y\":{\"value\":24}},\"id\":\"5d63740b-4fa8-4296-9eab-3163ad59872c\",\"type\":\"Rect\"},{\"attributes\":{\"fill_alpha\":{\"value\":0.1},\"fill_color\":{\"value\":\"#1f77b4\"},\"height\":{\"units\":\"data\",\"value\":0.4},\"line_alpha\":{\"value\":0.1},\"line_color\":{\"value\":\"#1f77b4\"},\"width\":{\"units\":\"data\",\"value\":15},\"x\":{\"value\":7},\"y\":{\"value\":1}},\"id\":\"09755fb6-46b5-4d49-83ff-1f82f2da09db\",\"type\":\"Rect\"},{\"attributes\":{\"data_source\":{\"id\":\"96f6ddf0-9c06-4d96-93f9-7b5bae52f44a\",\"type\":\"ColumnDataSource\"},\"glyph\":{\"id\":\"4b13ba5f-ac5a-4efe-ac71-f9c3cca024dc\",\"type\":\"Rect\"},\"hover_glyph\":null,\"nonselection_glyph\":{\"id\":\"a89ebbe0-1d0c-4542-9cbc-c4a64cf07e17\",\"type\":\"Rect\"},\"selection_glyph\":null},\"id\":\"01403fcf-fdc1-4a0f-b454-672deba3b9db\",\"type\":\"GlyphRenderer\"},{\"attributes\":{\"fill_color\":{\"value\":\"#1f77b4\"},\"height\":{\"units\":\"data\",\"value\":0.4},\"line_color\":{\"value\":\"#1f77b4\"},\"width\":{\"units\":\"data\",\"value\":701},\"x\":{\"value\":350},\"y\":{\"value\":27}},\"id\":\"0f6ef62e-4ba1-4781-81d1-ef6a74c67c89\",\"type\":\"Rect\"},{\"attributes\":{\"fill_color\":{\"value\":\"#1f77b4\"},\"height\":{\"units\":\"data\",\"value\":0.4},\"line_color\":{\"value\":\"#1f77b4\"},\"width\":{\"units\":\"data\",\"value\":130},\"x\":{\"value\":65},\"y\":{\"value\":17}},\"id\":\"48babda0-f208-4e0b-bd67-89aca0b4065a\",\"type\":\"Rect\"},{\"attributes\":{\"fill_color\":{\"value\":\"#1f77b4\"},\"height\":{\"units\":\"data\",\"value\":0.4},\"line_color\":{\"value\":\"#1f77b4\"},\"width\":{\"units\":\"data\",\"value\":74},\"x\":{\"value\":37},\"y\":{\"value\":12}},\"id\":\"9f7980c2-273c-4fb3-9914-7c7bcb6a46ef\",\"type\":\"Rect\"},{\"attributes\":{\"fill_color\":{\"value\":\"#1f77b4\"},\"height\":{\"units\":\"data\",\"value\":0.4},\"line_color\":{\"value\":\"#1f77b4\"},\"width\":{\"units\":\"data\",\"value\":523},\"x\":{\"value\":261},\"y\":{\"value\":23}},\"id\":\"0d5b7448-4b2e-4303-9776-6ae479faaf32\",\"type\":\"Rect\"},{\"attributes\":{\"fill_alpha\":{\"value\":0.1},\"fill_color\":{\"value\":\"#1f77b4\"},\"height\":{\"units\":\"data\",\"value\":0.4},\"line_alpha\":{\"value\":0.1},\"line_color\":{\"value\":\"#1f77b4\"},\"width\":{\"units\":\"data\",\"value\":705},\"x\":{\"value\":352},\"y\":{\"value\":28}},\"id\":\"7a4cbb35-08f8-470f-a31a-38107403ee72\",\"type\":\"Rect\"},{\"attributes\":{\"data_source\":{\"id\":\"f612af91-dd65-49e4-9e51-f1546b3294c5\",\"type\":\"ColumnDataSource\"},\"glyph\":{\"id\":\"9f7980c2-273c-4fb3-9914-7c7bcb6a46ef\",\"type\":\"Rect\"},\"hover_glyph\":null,\"nonselection_glyph\":{\"id\":\"644a5f8a-c114-40a0-ab75-083e8cc814e5\",\"type\":\"Rect\"},\"selection_glyph\":null},\"id\":\"7d2de91b-b36e-4504-9db9-463f96deb2db\",\"type\":\"GlyphRenderer\"},{\"attributes\":{\"callback\":null},\"id\":\"a1fdf0fa-a669-4e6d-9146-be352e43565a\",\"type\":\"ColumnDataSource\"},{\"attributes\":{\"fill_alpha\":{\"value\":0.1},\"fill_color\":{\"value\":\"#1f77b4\"},\"height\":{\"units\":\"data\",\"value\":0.4},\"line_alpha\":{\"value\":0.1},\"line_color\":{\"value\":\"#1f77b4\"},\"width\":{\"units\":\"data\",\"value\":122},\"x\":{\"value\":61},\"y\":{\"value\":16}},\"id\":\"e61cd3e9-df92-49c8-8899-f7978fc4f31a\",\"type\":\"Rect\"},{\"attributes\":{\"fill_color\":{\"value\":\"#1f77b4\"},\"height\":{\"units\":\"data\",\"value\":0.4},\"line_color\":{\"value\":\"#1f77b4\"},\"width\":{\"units\":\"data\",\"value\":281},\"x\":{\"value\":140},\"y\":{\"value\":20}},\"id\":\"4944202c-e719-4c54-a79d-ac2aa6d1febc\",\"type\":\"Rect\"},{\"attributes\":{\"data_source\":{\"id\":\"6907b8c0-b733-409b-b0e8-86cacf09e40b\",\"type\":\"ColumnDataSource\"},\"glyph\":{\"id\":\"48babda0-f208-4e0b-bd67-89aca0b4065a\",\"type\":\"Rect\"},\"hover_glyph\":null,\"nonselection_glyph\":{\"id\":\"aebf3937-2b16-4ed9-bdd1-388e561808af\",\"type\":\"Rect\"},\"selection_glyph\":null},\"id\":\"26fd247f-c637-4491-94a2-77bcfe5a6b76\",\"type\":\"GlyphRenderer\"},{\"attributes\":{\"fill_alpha\":{\"value\":0.1},\"fill_color\":{\"value\":\"#1f77b4\"},\"height\":{\"units\":\"data\",\"value\":0.4},\"line_alpha\":{\"value\":0.1},\"line_color\":{\"value\":\"#1f77b4\"},\"width\":{\"units\":\"data\",\"value\":206},\"x\":{\"value\":103},\"y\":{\"value\":19}},\"id\":\"98e25e5b-db6b-49c3-aba5-af068bc822cc\",\"type\":\"Rect\"},{\"attributes\":{\"data_source\":{\"id\":\"07e005b6-3af5-4bb4-85fc-ca3b5e8b43d7\",\"type\":\"ColumnDataSource\"},\"glyph\":{\"id\":\"12565bd5-9dd9-4701-a858-65680e22196c\",\"type\":\"Rect\"},\"hover_glyph\":null,\"nonselection_glyph\":{\"id\":\"998bf08d-25e9-4984-bddc-d828bade3aa7\",\"type\":\"Rect\"},\"selection_glyph\":null},\"id\":\"3855d37b-2183-49df-beca-944098907980\",\"type\":\"GlyphRenderer\"},{\"attributes\":{\"plot\":{\"id\":\"cac580d4-8fe5-46f0-a086-998788a0cdc9\",\"subtype\":\"Figure\",\"type\":\"Plot\"}},\"id\":\"2098e323-bdc4-497c-b2a5-59883a82eeec\",\"type\":\"PanTool\"},{\"attributes\":{\"data_source\":{\"id\":\"fe4f1373-0af0-4c82-8622-1060c0d0f17f\",\"type\":\"ColumnDataSource\"},\"glyph\":{\"id\":\"bc39e471-5163-494c-acc0-fee0ad916c4d\",\"type\":\"Rect\"},\"hover_glyph\":null,\"nonselection_glyph\":{\"id\":\"872b003f-dd0c-4046-9e9f-fd88f85865e6\",\"type\":\"Rect\"},\"selection_glyph\":null},\"id\":\"207c7440-c312-43fb-87e2-e5e750cf59ed\",\"type\":\"GlyphRenderer\"},{\"attributes\":{\"fill_alpha\":{\"value\":0.1},\"fill_color\":{\"value\":\"#1f77b4\"},\"height\":{\"units\":\"data\",\"value\":0.4},\"line_alpha\":{\"value\":0.1},\"line_color\":{\"value\":\"#1f77b4\"},\"width\":{\"units\":\"data\",\"value\":74},\"x\":{\"value\":37},\"y\":{\"value\":13}},\"id\":\"59960620-b1c1-4a10-b2e3-287218d6a272\",\"type\":\"Rect\"},{\"attributes\":{\"callback\":null},\"id\":\"1df0ef98-30f7-4212-86f7-85be5d9982cd\",\"type\":\"ColumnDataSource\"},{\"attributes\":{\"fill_alpha\":{\"value\":0.1},\"fill_color\":{\"value\":\"#1f77b4\"},\"height\":{\"units\":\"data\",\"value\":0.4},\"line_alpha\":{\"value\":0.1},\"line_color\":{\"value\":\"#1f77b4\"},\"width\":{\"units\":\"data\",\"value\":385},\"x\":{\"value\":192},\"y\":{\"value\":22}},\"id\":\"188f1efa-8be4-4eef-ba0b-660e210a2cec\",\"type\":\"Rect\"},{\"attributes\":{\"data_source\":{\"id\":\"1320f0cc-9db4-4146-94d5-002d6ecfb140\",\"type\":\"ColumnDataSource\"},\"glyph\":{\"id\":\"4944202c-e719-4c54-a79d-ac2aa6d1febc\",\"type\":\"Rect\"},\"hover_glyph\":null,\"nonselection_glyph\":{\"id\":\"c9d53c23-18a8-4f1c-ad63-1720a8bf7637\",\"type\":\"Rect\"},\"selection_glyph\":null},\"id\":\"8781c90e-bc75-48ef-9232-aa57149d51e6\",\"type\":\"GlyphRenderer\"},{\"attributes\":{\"callback\":null},\"id\":\"0b25fb81-9f4a-447a-9e51-980a0e94f655\",\"type\":\"ColumnDataSource\"},{\"attributes\":{\"callback\":null},\"id\":\"794ed8c0-017b-43c8-8c63-9cc579654def\",\"type\":\"ColumnDataSource\"},{\"attributes\":{\"callback\":null},\"id\":\"99f84940-aee4-4af2-8ed9-6cf495ea07d0\",\"type\":\"ColumnDataSource\"},{\"attributes\":{\"callback\":null},\"id\":\"bacb9014-663f-4133-ac39-a083e1247a58\",\"type\":\"ColumnDataSource\"},{\"attributes\":{\"callback\":null},\"id\":\"2f5d93cc-b3ed-4237-917f-75c5dd6d8e4e\",\"type\":\"ColumnDataSource\"},{\"attributes\":{\"fill_color\":{\"value\":\"#1f77b4\"},\"height\":{\"units\":\"data\",\"value\":0.4},\"line_color\":{\"value\":\"#1f77b4\"},\"width\":{\"units\":\"data\",\"value\":206},\"x\":{\"value\":103},\"y\":{\"value\":19}},\"id\":\"3a361d21-7d67-4473-9a78-c0a7a0472b15\",\"type\":\"Rect\"},{\"attributes\":{\"fill_color\":{\"value\":\"#1f77b4\"},\"height\":{\"units\":\"data\",\"value\":0.4},\"line_color\":{\"value\":\"#1f77b4\"},\"width\":{\"units\":\"data\",\"value\":26},\"x\":{\"value\":13},\"y\":{\"value\":4}},\"id\":\"bc39e471-5163-494c-acc0-fee0ad916c4d\",\"type\":\"Rect\"},{\"attributes\":{\"fill_color\":{\"value\":\"#1f77b4\"},\"height\":{\"units\":\"data\",\"value\":0.4},\"line_color\":{\"value\":\"#1f77b4\"},\"width\":{\"units\":\"data\",\"value\":27},\"x\":{\"value\":13},\"y\":{\"value\":6}},\"id\":\"0608a6bf-bd78-4b39-a7c9-a1192cea1601\",\"type\":\"Rect\"},{\"attributes\":{\"plot\":{\"id\":\"cac580d4-8fe5-46f0-a086-998788a0cdc9\",\"subtype\":\"Figure\",\"type\":\"Plot\"}},\"id\":\"b73c1b9f-c8cd-4438-a512-b5cafc5d8f74\",\"type\":\"ResetTool\"},{\"attributes\":{\"data_source\":{\"id\":\"a1fdf0fa-a669-4e6d-9146-be352e43565a\",\"type\":\"ColumnDataSource\"},\"glyph\":{\"id\":\"0608a6bf-bd78-4b39-a7c9-a1192cea1601\",\"type\":\"Rect\"},\"hover_glyph\":null,\"nonselection_glyph\":{\"id\":\"79657782-fb20-415f-8725-72d660499d4e\",\"type\":\"Rect\"},\"selection_glyph\":null},\"id\":\"6846b85e-f10f-40a1-a79f-524a4ec313f5\",\"type\":\"GlyphRenderer\"},{\"attributes\":{\"fill_alpha\":{\"value\":0.1},\"fill_color\":{\"value\":\"#1f77b4\"},\"height\":{\"units\":\"data\",\"value\":0.4},\"line_alpha\":{\"value\":0.1},\"line_color\":{\"value\":\"#1f77b4\"},\"width\":{\"units\":\"data\",\"value\":32},\"x\":{\"value\":16},\"y\":{\"value\":8}},\"id\":\"b29042c6-115f-40a3-845a-6cb4f020a626\",\"type\":\"Rect\"},{\"attributes\":{\"callback\":null},\"id\":\"0522d7df-965e-42f8-b64b-4f7d8fb37aba\",\"type\":\"ColumnDataSource\"},{\"attributes\":{\"fill_color\":{\"value\":\"#1f77b4\"},\"height\":{\"units\":\"data\",\"value\":0.4},\"line_color\":{\"value\":\"#1f77b4\"},\"width\":{\"units\":\"data\",\"value\":597},\"x\":{\"value\":298},\"y\":{\"value\":25}},\"id\":\"4b13ba5f-ac5a-4efe-ac71-f9c3cca024dc\",\"type\":\"Rect\"},{\"attributes\":{},\"id\":\"d92463e0-d924-4325-aadd-50efc0ab33c3\",\"type\":\"BasicTickFormatter\"},{\"attributes\":{\"callback\":null},\"id\":\"6907b8c0-b733-409b-b0e8-86cacf09e40b\",\"type\":\"ColumnDataSource\"},{\"attributes\":{\"fill_color\":{\"value\":\"#1f77b4\"},\"height\":{\"units\":\"data\",\"value\":0.4},\"line_color\":{\"value\":\"#1f77b4\"},\"width\":{\"units\":\"data\",\"value\":76},\"x\":{\"value\":38},\"y\":{\"value\":14}},\"id\":\"000edf86-75ca-4453-abd5-64e34a7f9ce8\",\"type\":\"Rect\"},{\"attributes\":{\"callback\":null},\"id\":\"30e8f2f6-48ed-49f3-8821-f257fa58c90c\",\"type\":\"DataRange1d\"},{\"attributes\":{\"callback\":null},\"id\":\"1320f0cc-9db4-4146-94d5-002d6ecfb140\",\"type\":\"ColumnDataSource\"},{\"attributes\":{\"callback\":null},\"id\":\"123d8934-869f-4ad4-b53a-abb0487adc30\",\"type\":\"ColumnDataSource\"},{\"attributes\":{\"dimension\":1,\"plot\":{\"id\":\"cac580d4-8fe5-46f0-a086-998788a0cdc9\",\"subtype\":\"Figure\",\"type\":\"Plot\"},\"ticker\":{\"id\":\"82f82b9e-28fe-4388-9ff1-e19e6ef05849\",\"type\":\"CategoricalTicker\"}},\"id\":\"0881a6ae-c50b-4eb7-a48d-a970db122295\",\"type\":\"Grid\"},{\"attributes\":{\"callback\":null},\"id\":\"1b18a756-e0db-4575-b138-9d7db207228d\",\"type\":\"ColumnDataSource\"},{\"attributes\":{\"fill_alpha\":{\"value\":0.1},\"fill_color\":{\"value\":\"#1f77b4\"},\"height\":{\"units\":\"data\",\"value\":0.4},\"line_alpha\":{\"value\":0.1},\"line_color\":{\"value\":\"#1f77b4\"},\"width\":{\"units\":\"data\",\"value\":76},\"x\":{\"value\":38},\"y\":{\"value\":14}},\"id\":\"df859ee6-2cdb-4ede-80c4-326f0c254d19\",\"type\":\"Rect\"},{\"attributes\":{\"fill_color\":{\"value\":\"#1f77b4\"},\"height\":{\"units\":\"data\",\"value\":0.4},\"line_color\":{\"value\":\"#1f77b4\"},\"width\":{\"units\":\"data\",\"value\":718},\"x\":{\"value\":359},\"y\":{\"value\":30}},\"id\":\"7088d771-4ec3-469a-ae74-1b38b0618a92\",\"type\":\"Rect\"},{\"attributes\":{\"fill_color\":{\"value\":\"#1f77b4\"},\"height\":{\"units\":\"data\",\"value\":0.4},\"line_color\":{\"value\":\"#1f77b4\"},\"width\":{\"units\":\"data\",\"value\":22},\"x\":{\"value\":11},\"y\":{\"value\":2}},\"id\":\"d2162a52-71f4-4d4d-8491-5ec55369c296\",\"type\":\"Rect\"},{\"attributes\":{\"data_source\":{\"id\":\"1df0ef98-30f7-4212-86f7-85be5d9982cd\",\"type\":\"ColumnDataSource\"},\"glyph\":{\"id\":\"0d5b7448-4b2e-4303-9776-6ae479faaf32\",\"type\":\"Rect\"},\"hover_glyph\":null,\"nonselection_glyph\":{\"id\":\"298b68ea-fd86-4c21-9c95-b610ffdc1986\",\"type\":\"Rect\"},\"selection_glyph\":null},\"id\":\"dc966830-5be2-4fd6-9adf-af66b5ef2573\",\"type\":\"GlyphRenderer\"},{\"attributes\":{\"callback\":null},\"id\":\"893b2944-48d1-4aa0-94fb-a12ebfeb844d\",\"type\":\"ColumnDataSource\"},{\"attributes\":{\"fill_color\":{\"value\":\"#1f77b4\"},\"height\":{\"units\":\"data\",\"value\":0.4},\"line_color\":{\"value\":\"#1f77b4\"},\"width\":{\"units\":\"data\",\"value\":664},\"x\":{\"value\":332},\"y\":{\"value\":26}},\"id\":\"6f03eef5-e799-41ac-a191-cf84434a1299\",\"type\":\"Rect\"},{\"attributes\":{\"data_source\":{\"id\":\"bacb9014-663f-4133-ac39-a083e1247a58\",\"type\":\"ColumnDataSource\"},\"glyph\":{\"id\":\"5d63740b-4fa8-4296-9eab-3163ad59872c\",\"type\":\"Rect\"},\"hover_glyph\":null,\"nonselection_glyph\":{\"id\":\"a693051b-2456-448d-91a9-adc49709463b\",\"type\":\"Rect\"},\"selection_glyph\":null},\"id\":\"358366c2-3936-44a3-b446-40a6b760094d\",\"type\":\"GlyphRenderer\"},{\"attributes\":{\"bottom_units\":\"screen\",\"fill_alpha\":{\"value\":0.5},\"fill_color\":{\"value\":\"lightgrey\"},\"left_units\":\"screen\",\"level\":\"overlay\",\"line_alpha\":{\"value\":1.0},\"line_color\":{\"value\":\"black\"},\"line_dash\":[4,4],\"line_width\":{\"value\":2},\"plot\":null,\"render_mode\":\"css\",\"right_units\":\"screen\",\"top_units\":\"screen\"},\"id\":\"b038a347-81a1-48ce-a767-1e43d4009e0e\",\"type\":\"BoxAnnotation\"},{\"attributes\":{\"fill_color\":{\"value\":\"#1f77b4\"},\"height\":{\"units\":\"data\",\"value\":0.4},\"line_color\":{\"value\":\"#1f77b4\"},\"width\":{\"units\":\"data\",\"value\":74},\"x\":{\"value\":37},\"y\":{\"value\":13}},\"id\":\"5cfe0d03-67b0-45c1-9733-37202d579578\",\"type\":\"Rect\"},{\"attributes\":{\"fill_alpha\":{\"value\":0.1},\"fill_color\":{\"value\":\"#1f77b4\"},\"height\":{\"units\":\"data\",\"value\":0.4},\"line_alpha\":{\"value\":0.1},\"line_color\":{\"value\":\"#1f77b4\"},\"width\":{\"units\":\"data\",\"value\":65},\"x\":{\"value\":32},\"y\":{\"value\":11}},\"id\":\"ccaa9e88-8652-4731-82e2-93e7ccb43e0c\",\"type\":\"Rect\"},{\"attributes\":{},\"id\":\"82f82b9e-28fe-4388-9ff1-e19e6ef05849\",\"type\":\"CategoricalTicker\"},{\"attributes\":{\"callback\":null},\"id\":\"96f6ddf0-9c06-4d96-93f9-7b5bae52f44a\",\"type\":\"ColumnDataSource\"},{\"attributes\":{\"below\":[{\"id\":\"66e79ba5-0bb6-417a-988a-ea7a77c201ac\",\"type\":\"LinearAxis\"}],\"left\":[{\"id\":\"aa2b34d9-69c6-4627-a3e5-736e082769c4\",\"type\":\"CategoricalAxis\"}],\"plot_width\":800,\"renderers\":[{\"id\":\"66e79ba5-0bb6-417a-988a-ea7a77c201ac\",\"type\":\"LinearAxis\"},{\"id\":\"66fd802e-3050-45bb-af71-e1a36cee1f96\",\"type\":\"Grid\"},{\"id\":\"aa2b34d9-69c6-4627-a3e5-736e082769c4\",\"type\":\"CategoricalAxis\"},{\"id\":\"0881a6ae-c50b-4eb7-a48d-a970db122295\",\"type\":\"Grid\"},{\"id\":\"b038a347-81a1-48ce-a767-1e43d4009e0e\",\"type\":\"BoxAnnotation\"},{\"id\":\"0a243069-b5cb-41cf-8513-d9f7fe7fc11f\",\"type\":\"GlyphRenderer\"},{\"id\":\"3efda6ad-1b92-40fb-979a-88aa2f58fa91\",\"type\":\"GlyphRenderer\"},{\"id\":\"aca4cfce-881b-4be4-b4fa-bc9b7bc833db\",\"type\":\"GlyphRenderer\"},{\"id\":\"207c7440-c312-43fb-87e2-e5e750cf59ed\",\"type\":\"GlyphRenderer\"},{\"id\":\"5059b8ae-c4b3-4c6b-8fce-ff35aed395d4\",\"type\":\"GlyphRenderer\"},{\"id\":\"6846b85e-f10f-40a1-a79f-524a4ec313f5\",\"type\":\"GlyphRenderer\"},{\"id\":\"6233f28b-644a-4664-8a79-117db7cd1bd0\",\"type\":\"GlyphRenderer\"},{\"id\":\"61f8b241-fc3d-4428-9a58-72ba131533c9\",\"type\":\"GlyphRenderer\"},{\"id\":\"1b07e5a6-30fe-4a0e-9a85-f2c41580f391\",\"type\":\"GlyphRenderer\"},{\"id\":\"aa76f9c0-cd6f-4baf-bb21-21c9de6cafa3\",\"type\":\"GlyphRenderer\"},{\"id\":\"1ae2b824-57b4-4bd3-80a6-b173fd4c6a5e\",\"type\":\"GlyphRenderer\"},{\"id\":\"7d2de91b-b36e-4504-9db9-463f96deb2db\",\"type\":\"GlyphRenderer\"},{\"id\":\"e55b2968-4922-451d-adde-39521d2ef69f\",\"type\":\"GlyphRenderer\"},{\"id\":\"7bfe13fb-e2a1-4eef-8fab-8e7aa02b3b1a\",\"type\":\"GlyphRenderer\"},{\"id\":\"947276b7-c4f8-494e-8855-f007b099eca4\",\"type\":\"GlyphRenderer\"},{\"id\":\"cf3b1549-a767-4b02-be5f-4fb1d8497bef\",\"type\":\"GlyphRenderer\"},{\"id\":\"26fd247f-c637-4491-94a2-77bcfe5a6b76\",\"type\":\"GlyphRenderer\"},{\"id\":\"87190426-da3e-45b5-a825-162db7cab3d7\",\"type\":\"GlyphRenderer\"},{\"id\":\"3962e3de-726c-4aec-badc-0e3b6b9c64e2\",\"type\":\"GlyphRenderer\"},{\"id\":\"8781c90e-bc75-48ef-9232-aa57149d51e6\",\"type\":\"GlyphRenderer\"},{\"id\":\"3855d37b-2183-49df-beca-944098907980\",\"type\":\"GlyphRenderer\"},{\"id\":\"9e328525-5917-4e6c-aec9-b1318d65b1c6\",\"type\":\"GlyphRenderer\"},{\"id\":\"dc966830-5be2-4fd6-9adf-af66b5ef2573\",\"type\":\"GlyphRenderer\"},{\"id\":\"358366c2-3936-44a3-b446-40a6b760094d\",\"type\":\"GlyphRenderer\"},{\"id\":\"01403fcf-fdc1-4a0f-b454-672deba3b9db\",\"type\":\"GlyphRenderer\"},{\"id\":\"8819216f-a5bf-46dd-b880-fd7f31827395\",\"type\":\"GlyphRenderer\"},{\"id\":\"67fd82cb-6cd9-4b62-aa6d-e9a516d5d788\",\"type\":\"GlyphRenderer\"},{\"id\":\"985a1556-7b96-4a20-be12-b0d1465183f0\",\"type\":\"GlyphRenderer\"},{\"id\":\"beffe547-773a-4d3c-acad-261b7621a461\",\"type\":\"GlyphRenderer\"},{\"id\":\"2f29d509-58d9-4b23-bfd0-0f658b745f7b\",\"type\":\"GlyphRenderer\"}],\"title\":{\"id\":\"4209c28d-7960-4f77-96fd-e6a80012ab57\",\"type\":\"Title\"},\"tool_events\":{\"id\":\"9afd2e1b-65d3-4a7f-a446-c3168584471c\",\"type\":\"ToolEvents\"},\"toolbar\":{\"id\":\"9e6b2951-7a7a-42ff-b01f-798e726a416c\",\"type\":\"Toolbar\"},\"x_range\":{\"id\":\"30e8f2f6-48ed-49f3-8821-f257fa58c90c\",\"type\":\"DataRange1d\"},\"y_range\":{\"id\":\"944c95c2-630d-4f09-a3b0-6d237fa1c322\",\"type\":\"FactorRange\"}},\"id\":\"cac580d4-8fe5-46f0-a086-998788a0cdc9\",\"subtype\":\"Figure\",\"type\":\"Plot\"},{\"attributes\":{\"data_source\":{\"id\":\"64acc1a7-b914-42fa-bf21-da7d8b9f450d\",\"type\":\"ColumnDataSource\"},\"glyph\":{\"id\":\"fd0fbc8f-7454-4bf2-8cb5-1425f8eb1a3e\",\"type\":\"Rect\"},\"hover_glyph\":null,\"nonselection_glyph\":{\"id\":\"e61cd3e9-df92-49c8-8899-f7978fc4f31a\",\"type\":\"Rect\"},\"selection_glyph\":null},\"id\":\"cf3b1549-a767-4b02-be5f-4fb1d8497bef\",\"type\":\"GlyphRenderer\"},{\"attributes\":{\"plot\":{\"id\":\"cac580d4-8fe5-46f0-a086-998788a0cdc9\",\"subtype\":\"Figure\",\"type\":\"Plot\"}},\"id\":\"3ba17f1c-82a7-477d-8944-968d4be49a3c\",\"type\":\"SaveTool\"},{\"attributes\":{\"data_source\":{\"id\":\"0b25fb81-9f4a-447a-9e51-980a0e94f655\",\"type\":\"ColumnDataSource\"},\"glyph\":{\"id\":\"9fae7c05-3863-459f-ae55-ef2ffb130bbd\",\"type\":\"Rect\"},\"hover_glyph\":null,\"nonselection_glyph\":{\"id\":\"52ac052a-621c-4801-beab-483d7bbf1393\",\"type\":\"Rect\"},\"selection_glyph\":null},\"id\":\"947276b7-c4f8-494e-8855-f007b099eca4\",\"type\":\"GlyphRenderer\"},{\"attributes\":{\"fill_alpha\":{\"value\":0.1},\"fill_color\":{\"value\":\"#1f77b4\"},\"height\":{\"units\":\"data\",\"value\":0.4},\"line_alpha\":{\"value\":0.1},\"line_color\":{\"value\":\"#1f77b4\"},\"width\":{\"units\":\"data\",\"value\":130},\"x\":{\"value\":65},\"y\":{\"value\":17}},\"id\":\"aebf3937-2b16-4ed9-bdd1-388e561808af\",\"type\":\"Rect\"},{\"attributes\":{\"callback\":null},\"id\":\"973eba04-157f-4da4-8d31-29df28291db8\",\"type\":\"ColumnDataSource\"},{\"attributes\":{\"callback\":null},\"id\":\"0b9740c2-9210-44c1-a1e6-c3ad8160eb34\",\"type\":\"ColumnDataSource\"},{\"attributes\":{\"data_source\":{\"id\":\"6af9d54f-4359-4268-8569-f84afba2214a\",\"type\":\"ColumnDataSource\"},\"glyph\":{\"id\":\"a5fb5828-2be8-4e57-8672-e60135997b39\",\"type\":\"Rect\"},\"hover_glyph\":null,\"nonselection_glyph\":{\"id\":\"e967af5c-a272-4163-84ba-c690efc28d4f\",\"type\":\"Rect\"},\"selection_glyph\":null},\"id\":\"1b07e5a6-30fe-4a0e-9a85-f2c41580f391\",\"type\":\"GlyphRenderer\"},{\"attributes\":{\"callback\":null},\"id\":\"a7fcbea0-b52b-483d-9fae-bd577801788b\",\"type\":\"ColumnDataSource\"},{\"attributes\":{\"data_source\":{\"id\":\"0239c4fd-16a7-4b03-9379-519345e9dfa8\",\"type\":\"ColumnDataSource\"},\"glyph\":{\"id\":\"22ef453a-ef9a-4118-b325-d8835cfb3a0a\",\"type\":\"Rect\"},\"hover_glyph\":null,\"nonselection_glyph\":{\"id\":\"bb5b1e0e-1fcc-4526-b882-d6fcb2e7ff94\",\"type\":\"Rect\"},\"selection_glyph\":null},\"id\":\"beffe547-773a-4d3c-acad-261b7621a461\",\"type\":\"GlyphRenderer\"},{\"attributes\":{\"data_source\":{\"id\":\"ab509508-3fcb-4335-ab02-27cf4c6d0cc2\",\"type\":\"ColumnDataSource\"},\"glyph\":{\"id\":\"000edf86-75ca-4453-abd5-64e34a7f9ce8\",\"type\":\"Rect\"},\"hover_glyph\":null,\"nonselection_glyph\":{\"id\":\"df859ee6-2cdb-4ede-80c4-326f0c254d19\",\"type\":\"Rect\"},\"selection_glyph\":null},\"id\":\"7bfe13fb-e2a1-4eef-8fab-8e7aa02b3b1a\",\"type\":\"GlyphRenderer\"},{\"attributes\":{\"data_source\":{\"id\":\"893b2944-48d1-4aa0-94fb-a12ebfeb844d\",\"type\":\"ColumnDataSource\"},\"glyph\":{\"id\":\"5c1e86df-a816-4194-a577-5b8ec319a177\",\"type\":\"Rect\"},\"hover_glyph\":null,\"nonselection_glyph\":{\"id\":\"86413404-a1b3-4ff5-b187-1f4f6e0e3094\",\"type\":\"Rect\"},\"selection_glyph\":null},\"id\":\"5059b8ae-c4b3-4c6b-8fce-ff35aed395d4\",\"type\":\"GlyphRenderer\"},{\"attributes\":{\"fill_color\":{\"value\":\"#1f77b4\"},\"height\":{\"units\":\"data\",\"value\":0.4},\"line_color\":{\"value\":\"#1f77b4\"},\"width\":{\"units\":\"data\",\"value\":23},\"x\":{\"value\":11},\"y\":{\"value\":3}},\"id\":\"00ef2e9b-17a7-4921-a33c-aca9354212c7\",\"type\":\"Rect\"},{\"attributes\":{\"data_source\":{\"id\":\"0522d7df-965e-42f8-b64b-4f7d8fb37aba\",\"type\":\"ColumnDataSource\"},\"glyph\":{\"id\":\"22037c1d-402f-4eca-a560-3bebe3eb59d3\",\"type\":\"Rect\"},\"hover_glyph\":null,\"nonselection_glyph\":{\"id\":\"b29042c6-115f-40a3-845a-6cb4f020a626\",\"type\":\"Rect\"},\"selection_glyph\":null},\"id\":\"61f8b241-fc3d-4428-9a58-72ba131533c9\",\"type\":\"GlyphRenderer\"},{\"attributes\":{\"data_source\":{\"id\":\"794ed8c0-017b-43c8-8c63-9cc579654def\",\"type\":\"ColumnDataSource\"},\"glyph\":{\"id\":\"7088d771-4ec3-469a-ae74-1b38b0618a92\",\"type\":\"Rect\"},\"hover_glyph\":null,\"nonselection_glyph\":{\"id\":\"8f17ba10-c0c5-4d34-a6df-9865349657cd\",\"type\":\"Rect\"},\"selection_glyph\":null},\"id\":\"2f29d509-58d9-4b23-bfd0-0f658b745f7b\",\"type\":\"GlyphRenderer\"},{\"attributes\":{\"fill_alpha\":{\"value\":0.1},\"fill_color\":{\"value\":\"#1f77b4\"},\"height\":{\"units\":\"data\",\"value\":0.4},\"line_alpha\":{\"value\":0.1},\"line_color\":{\"value\":\"#1f77b4\"},\"width\":{\"units\":\"data\",\"value\":74},\"x\":{\"value\":37},\"y\":{\"value\":12}},\"id\":\"644a5f8a-c114-40a0-ab75-083e8cc814e5\",\"type\":\"Rect\"},{\"attributes\":{},\"id\":\"8ed8ca67-6b9f-45ac-a6de-4f4690f94316\",\"type\":\"BasicTicker\"},{\"attributes\":{\"fill_alpha\":{\"value\":0.1},\"fill_color\":{\"value\":\"#1f77b4\"},\"height\":{\"units\":\"data\",\"value\":0.4},\"line_alpha\":{\"value\":0.1},\"line_color\":{\"value\":\"#1f77b4\"},\"width\":{\"units\":\"data\",\"value\":26},\"x\":{\"value\":13},\"y\":{\"value\":4}},\"id\":\"872b003f-dd0c-4046-9e9f-fd88f85865e6\",\"type\":\"Rect\"},{\"attributes\":{\"callback\":null},\"id\":\"354a4bdc-0877-451a-9723-18c38007af9a\",\"type\":\"ColumnDataSource\"},{\"attributes\":{\"callback\":null},\"id\":\"07e005b6-3af5-4bb4-85fc-ca3b5e8b43d7\",\"type\":\"ColumnDataSource\"},{\"attributes\":{\"fill_color\":{\"value\":\"#1f77b4\"},\"height\":{\"units\":\"data\",\"value\":0.4},\"line_color\":{\"value\":\"#1f77b4\"},\"width\":{\"units\":\"data\",\"value\":385},\"x\":{\"value\":192},\"y\":{\"value\":22}},\"id\":\"97420888-d093-4d1e-a4df-a41dfaebcf61\",\"type\":\"Rect\"},{\"attributes\":{\"axis_label\":\"Frequency\",\"formatter\":{\"id\":\"d92463e0-d924-4325-aadd-50efc0ab33c3\",\"type\":\"BasicTickFormatter\"},\"plot\":{\"id\":\"cac580d4-8fe5-46f0-a086-998788a0cdc9\",\"subtype\":\"Figure\",\"type\":\"Plot\"},\"ticker\":{\"id\":\"8ed8ca67-6b9f-45ac-a6de-4f4690f94316\",\"type\":\"BasicTicker\"}},\"id\":\"66e79ba5-0bb6-417a-988a-ea7a77c201ac\",\"type\":\"LinearAxis\"},{\"attributes\":{\"fill_color\":{\"value\":\"#1f77b4\"},\"height\":{\"units\":\"data\",\"value\":0.4},\"line_color\":{\"value\":\"#1f77b4\"},\"width\":{\"units\":\"data\",\"value\":122},\"x\":{\"value\":61},\"y\":{\"value\":16}},\"id\":\"fd0fbc8f-7454-4bf2-8cb5-1425f8eb1a3e\",\"type\":\"Rect\"},{\"attributes\":{\"fill_alpha\":{\"value\":0.1},\"fill_color\":{\"value\":\"#1f77b4\"},\"height\":{\"units\":\"data\",\"value\":0.4},\"line_alpha\":{\"value\":0.1},\"line_color\":{\"value\":\"#1f77b4\"},\"width\":{\"units\":\"data\",\"value\":523},\"x\":{\"value\":261},\"y\":{\"value\":23}},\"id\":\"298b68ea-fd86-4c21-9c95-b610ffdc1986\",\"type\":\"Rect\"},{\"attributes\":{\"fill_color\":{\"value\":\"#1f77b4\"},\"height\":{\"units\":\"data\",\"value\":0.4},\"line_color\":{\"value\":\"#1f77b4\"},\"width\":{\"units\":\"data\",\"value\":705},\"x\":{\"value\":352},\"y\":{\"value\":28}},\"id\":\"cb183b7b-6cc3-4cfb-8ffe-2f43111507d4\",\"type\":\"Rect\"},{\"attributes\":{\"data_source\":{\"id\":\"ee369e1d-20a2-4a1b-966f-f0aed2fc948d\",\"type\":\"ColumnDataSource\"},\"glyph\":{\"id\":\"cb183b7b-6cc3-4cfb-8ffe-2f43111507d4\",\"type\":\"Rect\"},\"hover_glyph\":null,\"nonselection_glyph\":{\"id\":\"7a4cbb35-08f8-470f-a31a-38107403ee72\",\"type\":\"Rect\"},\"selection_glyph\":null},\"id\":\"985a1556-7b96-4a20-be12-b0d1465183f0\",\"type\":\"GlyphRenderer\"},{\"attributes\":{\"fill_alpha\":{\"value\":0.1},\"fill_color\":{\"value\":\"#1f77b4\"},\"height\":{\"units\":\"data\",\"value\":0.4},\"line_alpha\":{\"value\":0.1},\"line_color\":{\"value\":\"#1f77b4\"},\"width\":{\"units\":\"data\",\"value\":664},\"x\":{\"value\":332},\"y\":{\"value\":26}},\"id\":\"1b897bea-3ad4-4816-a637-97f8c99cb05a\",\"type\":\"Rect\"},{\"attributes\":{\"data_source\":{\"id\":\"123d8934-869f-4ad4-b53a-abb0487adc30\",\"type\":\"ColumnDataSource\"},\"glyph\":{\"id\":\"97420888-d093-4d1e-a4df-a41dfaebcf61\",\"type\":\"Rect\"},\"hover_glyph\":null,\"nonselection_glyph\":{\"id\":\"188f1efa-8be4-4eef-ba0b-660e210a2cec\",\"type\":\"Rect\"},\"selection_glyph\":null},\"id\":\"9e328525-5917-4e6c-aec9-b1318d65b1c6\",\"type\":\"GlyphRenderer\"},{\"attributes\":{\"data_source\":{\"id\":\"1b18a756-e0db-4575-b138-9d7db207228d\",\"type\":\"ColumnDataSource\"},\"glyph\":{\"id\":\"5cfe0d03-67b0-45c1-9733-37202d579578\",\"type\":\"Rect\"},\"hover_glyph\":null,\"nonselection_glyph\":{\"id\":\"59960620-b1c1-4a10-b2e3-287218d6a272\",\"type\":\"Rect\"},\"selection_glyph\":null},\"id\":\"e55b2968-4922-451d-adde-39521d2ef69f\",\"type\":\"GlyphRenderer\"},{\"attributes\":{\"data_source\":{\"id\":\"a7fcbea0-b52b-483d-9fae-bd577801788b\",\"type\":\"ColumnDataSource\"},\"glyph\":{\"id\":\"21f245d3-aca7-4cda-b832-24525a87f761\",\"type\":\"Rect\"},\"hover_glyph\":null,\"nonselection_glyph\":{\"id\":\"c7706fea-982f-485b-8ced-0073de165db8\",\"type\":\"Rect\"},\"selection_glyph\":null},\"id\":\"6233f28b-644a-4664-8a79-117db7cd1bd0\",\"type\":\"GlyphRenderer\"},{\"attributes\":{\"fill_alpha\":{\"value\":0.1},\"fill_color\":{\"value\":\"#1f77b4\"},\"height\":{\"units\":\"data\",\"value\":0.4},\"line_alpha\":{\"value\":0.1},\"line_color\":{\"value\":\"#1f77b4\"},\"width\":{\"units\":\"data\",\"value\":86},\"x\":{\"value\":43},\"y\":{\"value\":15}},\"id\":\"52ac052a-621c-4801-beab-483d7bbf1393\",\"type\":\"Rect\"},{\"attributes\":{\"callback\":null},\"id\":\"c1d237b4-d39e-410d-95e1-0c52e035ce6d\",\"type\":\"ColumnDataSource\"},{\"attributes\":{\"callback\":null},\"id\":\"ab509508-3fcb-4335-ab02-27cf4c6d0cc2\",\"type\":\"ColumnDataSource\"},{\"attributes\":{\"plot\":{\"id\":\"cac580d4-8fe5-46f0-a086-998788a0cdc9\",\"subtype\":\"Figure\",\"type\":\"Plot\"}},\"id\":\"16f837e9-d945-4d71-9264-1abeb831ccd9\",\"type\":\"HelpTool\"},{\"attributes\":{\"callback\":null},\"id\":\"c8994ed4-655d-40e9-b1af-e219ed7b9362\",\"type\":\"ColumnDataSource\"},{\"attributes\":{\"callback\":null},\"id\":\"6af9d54f-4359-4268-8569-f84afba2214a\",\"type\":\"ColumnDataSource\"},{\"attributes\":{\"fill_alpha\":{\"value\":0.1},\"fill_color\":{\"value\":\"#1f77b4\"},\"height\":{\"units\":\"data\",\"value\":0.4},\"line_alpha\":{\"value\":0.1},\"line_color\":{\"value\":\"#1f77b4\"},\"width\":{\"units\":\"data\",\"value\":556},\"x\":{\"value\":278},\"y\":{\"value\":24}},\"id\":\"a693051b-2456-448d-91a9-adc49709463b\",\"type\":\"Rect\"},{\"attributes\":{\"fill_alpha\":{\"value\":0.1},\"fill_color\":{\"value\":\"#1f77b4\"},\"height\":{\"units\":\"data\",\"value\":0.4},\"line_alpha\":{\"value\":0.1},\"line_color\":{\"value\":\"#1f77b4\"},\"width\":{\"units\":\"data\",\"value\":29},\"x\":{\"value\":14},\"y\":{\"value\":7}},\"id\":\"c7706fea-982f-485b-8ced-0073de165db8\",\"type\":\"Rect\"},{\"attributes\":{\"fill_color\":{\"value\":\"#1f77b4\"},\"height\":{\"units\":\"data\",\"value\":0.4},\"line_color\":{\"value\":\"#1f77b4\"},\"width\":{\"units\":\"data\",\"value\":29},\"x\":{\"value\":14},\"y\":{\"value\":7}},\"id\":\"21f245d3-aca7-4cda-b832-24525a87f761\",\"type\":\"Rect\"},{\"attributes\":{\"fill_alpha\":{\"value\":0.1},\"fill_color\":{\"value\":\"#1f77b4\"},\"height\":{\"units\":\"data\",\"value\":0.4},\"line_alpha\":{\"value\":0.1},\"line_color\":{\"value\":\"#1f77b4\"},\"width\":{\"units\":\"data\",\"value\":281},\"x\":{\"value\":140},\"y\":{\"value\":20}},\"id\":\"c9d53c23-18a8-4f1c-ad63-1720a8bf7637\",\"type\":\"Rect\"},{\"attributes\":{\"fill_color\":{\"value\":\"#1f77b4\"},\"height\":{\"units\":\"data\",\"value\":0.4},\"line_color\":{\"value\":\"#1f77b4\"},\"width\":{\"units\":\"data\",\"value\":15},\"x\":{\"value\":7},\"y\":{\"value\":1}},\"id\":\"479c6e4b-db45-4522-8987-911bd0f3f8f3\",\"type\":\"Rect\"},{\"attributes\":{\"fill_color\":{\"value\":\"#1f77b4\"},\"height\":{\"units\":\"data\",\"value\":0.4},\"line_color\":{\"value\":\"#1f77b4\"},\"width\":{\"units\":\"data\",\"value\":50},\"x\":{\"value\":25},\"y\":{\"value\":10}},\"id\":\"7b273052-703a-4217-9ed9-71e58f7129d8\",\"type\":\"Rect\"},{\"attributes\":{\"fill_color\":{\"value\":\"#1f77b4\"},\"height\":{\"units\":\"data\",\"value\":0.4},\"line_color\":{\"value\":\"#1f77b4\"},\"width\":{\"units\":\"data\",\"value\":718},\"x\":{\"value\":359},\"y\":{\"value\":29}},\"id\":\"22ef453a-ef9a-4118-b325-d8835cfb3a0a\",\"type\":\"Rect\"},{\"attributes\":{\"callback\":null},\"id\":\"59e6edb9-175f-4a54-a110-951094e03e37\",\"type\":\"ColumnDataSource\"},{\"attributes\":{\"plot\":{\"id\":\"cac580d4-8fe5-46f0-a086-998788a0cdc9\",\"subtype\":\"Figure\",\"type\":\"Plot\"}},\"id\":\"2e601a07-0438-4ea5-90dc-f73b6181fc32\",\"type\":\"WheelZoomTool\"},{\"attributes\":{\"callback\":null},\"id\":\"0239c4fd-16a7-4b03-9379-519345e9dfa8\",\"type\":\"ColumnDataSource\"},{\"attributes\":{\"data_source\":{\"id\":\"2f5d93cc-b3ed-4237-917f-75c5dd6d8e4e\",\"type\":\"ColumnDataSource\"},\"glyph\":{\"id\":\"479c6e4b-db45-4522-8987-911bd0f3f8f3\",\"type\":\"Rect\"},\"hover_glyph\":null,\"nonselection_glyph\":{\"id\":\"09755fb6-46b5-4d49-83ff-1f82f2da09db\",\"type\":\"Rect\"},\"selection_glyph\":null},\"id\":\"0a243069-b5cb-41cf-8513-d9f7fe7fc11f\",\"type\":\"GlyphRenderer\"},{\"attributes\":{\"data_source\":{\"id\":\"59e6edb9-175f-4a54-a110-951094e03e37\",\"type\":\"ColumnDataSource\"},\"glyph\":{\"id\":\"3a361d21-7d67-4473-9a78-c0a7a0472b15\",\"type\":\"Rect\"},\"hover_glyph\":null,\"nonselection_glyph\":{\"id\":\"98e25e5b-db6b-49c3-aba5-af068bc822cc\",\"type\":\"Rect\"},\"selection_glyph\":null},\"id\":\"3962e3de-726c-4aec-badc-0e3b6b9c64e2\",\"type\":\"GlyphRenderer\"},{\"attributes\":{\"fill_color\":{\"value\":\"#1f77b4\"},\"height\":{\"units\":\"data\",\"value\":0.4},\"line_color\":{\"value\":\"#1f77b4\"},\"width\":{\"units\":\"data\",\"value\":357},\"x\":{\"value\":178},\"y\":{\"value\":21}},\"id\":\"12565bd5-9dd9-4701-a858-65680e22196c\",\"type\":\"Rect\"},{\"attributes\":{\"fill_alpha\":{\"value\":0.1},\"fill_color\":{\"value\":\"#1f77b4\"},\"height\":{\"units\":\"data\",\"value\":0.4},\"line_alpha\":{\"value\":0.1},\"line_color\":{\"value\":\"#1f77b4\"},\"width\":{\"units\":\"data\",\"value\":718},\"x\":{\"value\":359},\"y\":{\"value\":30}},\"id\":\"8f17ba10-c0c5-4d34-a6df-9865349657cd\",\"type\":\"Rect\"},{\"attributes\":{\"fill_alpha\":{\"value\":0.1},\"fill_color\":{\"value\":\"#1f77b4\"},\"height\":{\"units\":\"data\",\"value\":0.4},\"line_alpha\":{\"value\":0.1},\"line_color\":{\"value\":\"#1f77b4\"},\"width\":{\"units\":\"data\",\"value\":357},\"x\":{\"value\":178},\"y\":{\"value\":21}},\"id\":\"998bf08d-25e9-4984-bddc-d828bade3aa7\",\"type\":\"Rect\"},{\"attributes\":{\"fill_alpha\":{\"value\":0.1},\"fill_color\":{\"value\":\"#1f77b4\"},\"height\":{\"units\":\"data\",\"value\":0.4},\"line_alpha\":{\"value\":0.1},\"line_color\":{\"value\":\"#1f77b4\"},\"width\":{\"units\":\"data\",\"value\":23},\"x\":{\"value\":11},\"y\":{\"value\":3}},\"id\":\"9a15605f-73b9-4cce-87c3-f06ae192427f\",\"type\":\"Rect\"},{\"attributes\":{\"active_drag\":\"auto\",\"active_scroll\":\"auto\",\"active_tap\":\"auto\",\"tools\":[{\"id\":\"2098e323-bdc4-497c-b2a5-59883a82eeec\",\"type\":\"PanTool\"},{\"id\":\"2e601a07-0438-4ea5-90dc-f73b6181fc32\",\"type\":\"WheelZoomTool\"},{\"id\":\"dc6a803a-28af-40d2-aaf3-22948160ba4a\",\"type\":\"BoxZoomTool\"},{\"id\":\"3ba17f1c-82a7-477d-8944-968d4be49a3c\",\"type\":\"SaveTool\"},{\"id\":\"b73c1b9f-c8cd-4438-a512-b5cafc5d8f74\",\"type\":\"ResetTool\"},{\"id\":\"16f837e9-d945-4d71-9264-1abeb831ccd9\",\"type\":\"HelpTool\"}]},\"id\":\"9e6b2951-7a7a-42ff-b01f-798e726a416c\",\"type\":\"Toolbar\"},{\"attributes\":{\"fill_alpha\":{\"value\":0.1},\"fill_color\":{\"value\":\"#1f77b4\"},\"height\":{\"units\":\"data\",\"value\":0.4},\"line_alpha\":{\"value\":0.1},\"line_color\":{\"value\":\"#1f77b4\"},\"width\":{\"units\":\"data\",\"value\":718},\"x\":{\"value\":359},\"y\":{\"value\":29}},\"id\":\"bb5b1e0e-1fcc-4526-b882-d6fcb2e7ff94\",\"type\":\"Rect\"},{\"attributes\":{\"fill_alpha\":{\"value\":0.1},\"fill_color\":{\"value\":\"#1f77b4\"},\"height\":{\"units\":\"data\",\"value\":0.4},\"line_alpha\":{\"value\":0.1},\"line_color\":{\"value\":\"#1f77b4\"},\"width\":{\"units\":\"data\",\"value\":27},\"x\":{\"value\":13},\"y\":{\"value\":6}},\"id\":\"79657782-fb20-415f-8725-72d660499d4e\",\"type\":\"Rect\"},{\"attributes\":{\"fill_color\":{\"value\":\"#1f77b4\"},\"height\":{\"units\":\"data\",\"value\":0.4},\"line_color\":{\"value\":\"#1f77b4\"},\"width\":{\"units\":\"data\",\"value\":184},\"x\":{\"value\":92},\"y\":{\"value\":18}},\"id\":\"8be012f3-b888-4795-83b3-3813c39d7b4e\",\"type\":\"Rect\"},{\"attributes\":{\"fill_alpha\":{\"value\":0.1},\"fill_color\":{\"value\":\"#1f77b4\"},\"height\":{\"units\":\"data\",\"value\":0.4},\"line_alpha\":{\"value\":0.1},\"line_color\":{\"value\":\"#1f77b4\"},\"width\":{\"units\":\"data\",\"value\":597},\"x\":{\"value\":298},\"y\":{\"value\":25}},\"id\":\"a89ebbe0-1d0c-4542-9cbc-c4a64cf07e17\",\"type\":\"Rect\"},{\"attributes\":{\"overlay\":{\"id\":\"b038a347-81a1-48ce-a767-1e43d4009e0e\",\"type\":\"BoxAnnotation\"},\"plot\":{\"id\":\"cac580d4-8fe5-46f0-a086-998788a0cdc9\",\"subtype\":\"Figure\",\"type\":\"Plot\"}},\"id\":\"dc6a803a-28af-40d2-aaf3-22948160ba4a\",\"type\":\"BoxZoomTool\"},{\"attributes\":{\"fill_color\":{\"value\":\"#1f77b4\"},\"height\":{\"units\":\"data\",\"value\":0.4},\"line_color\":{\"value\":\"#1f77b4\"},\"width\":{\"units\":\"data\",\"value\":65},\"x\":{\"value\":32},\"y\":{\"value\":11}},\"id\":\"eca31b4b-c625-4aa5-a76d-3cae243200e7\",\"type\":\"Rect\"},{\"attributes\":{\"fill_alpha\":{\"value\":0.1},\"fill_color\":{\"value\":\"#1f77b4\"},\"height\":{\"units\":\"data\",\"value\":0.4},\"line_alpha\":{\"value\":0.1},\"line_color\":{\"value\":\"#1f77b4\"},\"width\":{\"units\":\"data\",\"value\":41},\"x\":{\"value\":20},\"y\":{\"value\":9}},\"id\":\"e967af5c-a272-4163-84ba-c690efc28d4f\",\"type\":\"Rect\"},{\"attributes\":{\"fill_color\":{\"value\":\"#1f77b4\"},\"height\":{\"units\":\"data\",\"value\":0.4},\"line_color\":{\"value\":\"#1f77b4\"},\"width\":{\"units\":\"data\",\"value\":32},\"x\":{\"value\":16},\"y\":{\"value\":8}},\"id\":\"22037c1d-402f-4eca-a560-3bebe3eb59d3\",\"type\":\"Rect\"},{\"attributes\":{},\"id\":\"1b30bd16-a174-4c5a-b9f6-06f1f88eda42\",\"type\":\"CategoricalTickFormatter\"},{\"attributes\":{\"axis_label\":\"Field\",\"formatter\":{\"id\":\"1b30bd16-a174-4c5a-b9f6-06f1f88eda42\",\"type\":\"CategoricalTickFormatter\"},\"plot\":{\"id\":\"cac580d4-8fe5-46f0-a086-998788a0cdc9\",\"subtype\":\"Figure\",\"type\":\"Plot\"},\"ticker\":{\"id\":\"82f82b9e-28fe-4388-9ff1-e19e6ef05849\",\"type\":\"CategoricalTicker\"}},\"id\":\"aa2b34d9-69c6-4627-a3e5-736e082769c4\",\"type\":\"CategoricalAxis\"},{\"attributes\":{\"plot\":{\"id\":\"cac580d4-8fe5-46f0-a086-998788a0cdc9\",\"subtype\":\"Figure\",\"type\":\"Plot\"},\"ticker\":{\"id\":\"8ed8ca67-6b9f-45ac-a6de-4f4690f94316\",\"type\":\"BasicTicker\"}},\"id\":\"66fd802e-3050-45bb-af71-e1a36cee1f96\",\"type\":\"Grid\"},{\"attributes\":{\"data_source\":{\"id\":\"99f84940-aee4-4af2-8ed9-6cf495ea07d0\",\"type\":\"ColumnDataSource\"},\"glyph\":{\"id\":\"0f6ef62e-4ba1-4781-81d1-ef6a74c67c89\",\"type\":\"Rect\"},\"hover_glyph\":null,\"nonselection_glyph\":{\"id\":\"4dd37fe8-6970-4882-9e5f-f5bcef8bd862\",\"type\":\"Rect\"},\"selection_glyph\":null},\"id\":\"67fd82cb-6cd9-4b62-aa6d-e9a516d5d788\",\"type\":\"GlyphRenderer\"},{\"attributes\":{\"fill_alpha\":{\"value\":0.1},\"fill_color\":{\"value\":\"#1f77b4\"},\"height\":{\"units\":\"data\",\"value\":0.4},\"line_alpha\":{\"value\":0.1},\"line_color\":{\"value\":\"#1f77b4\"},\"width\":{\"units\":\"data\",\"value\":26},\"x\":{\"value\":13},\"y\":{\"value\":5}},\"id\":\"86413404-a1b3-4ff5-b187-1f4f6e0e3094\",\"type\":\"Rect\"},{\"attributes\":{\"data_source\":{\"id\":\"354a4bdc-0877-451a-9723-18c38007af9a\",\"type\":\"ColumnDataSource\"},\"glyph\":{\"id\":\"eca31b4b-c625-4aa5-a76d-3cae243200e7\",\"type\":\"Rect\"},\"hover_glyph\":null,\"nonselection_glyph\":{\"id\":\"ccaa9e88-8652-4731-82e2-93e7ccb43e0c\",\"type\":\"Rect\"},\"selection_glyph\":null},\"id\":\"1ae2b824-57b4-4bd3-80a6-b173fd4c6a5e\",\"type\":\"GlyphRenderer\"},{\"attributes\":{\"callback\":null},\"id\":\"ee369e1d-20a2-4a1b-966f-f0aed2fc948d\",\"type\":\"ColumnDataSource\"},{\"attributes\":{\"callback\":null},\"id\":\"700eda8f-8d80-4da7-99d3-ca8b78099eb9\",\"type\":\"ColumnDataSource\"}],\"root_ids\":[\"cac580d4-8fe5-46f0-a086-998788a0cdc9\"]},\"title\":\"Bokeh Application\",\"version\":\"0.12.4\"}};\n",
       "            var render_items = [{\"docid\":\"3e65d7ac-b693-4c48-8351-d76710b174e6\",\"elementid\":\"c8b0004d-7ee1-4a05-aa3e-122023fb6239\",\"modelid\":\"cac580d4-8fe5-46f0-a086-998788a0cdc9\"}];\n",
       "            \n",
       "            Bokeh.embed.embed_items(docs_json, render_items);\n",
       "          };\n",
       "          if (document.readyState != \"loading\") fn();\n",
       "          else document.addEventListener(\"DOMContentLoaded\", fn);\n",
       "        })();\n",
       "      },\n",
       "      function(Bokeh) {\n",
       "      }\n",
       "    ];\n",
       "  \n",
       "    function run_inline_js() {\n",
       "      \n",
       "      if ((window.Bokeh !== undefined) || (force === true)) {\n",
       "        for (var i = 0; i < inline_js.length; i++) {\n",
       "          inline_js[i](window.Bokeh);\n",
       "        }if (force === true) {\n",
       "          display_loaded();\n",
       "        }} else if (Date.now() < window._bokeh_timeout) {\n",
       "        setTimeout(run_inline_js, 100);\n",
       "      } else if (!window._bokeh_failed_load) {\n",
       "        console.log(\"Bokeh: BokehJS failed to load within specified timeout.\");\n",
       "        window._bokeh_failed_load = true;\n",
       "      } else if (force !== true) {\n",
       "        var cell = $(document.getElementById(\"c8b0004d-7ee1-4a05-aa3e-122023fb6239\")).parents('.cell').data().cell;\n",
       "        cell.output_area.append_execute_result(NB_LOAD_WARNING)\n",
       "      }\n",
       "  \n",
       "    }\n",
       "  \n",
       "    if (window._bokeh_is_loading === 0) {\n",
       "      console.log(\"Bokeh: BokehJS loaded, going straight to plotting\");\n",
       "      run_inline_js();\n",
       "    } else {\n",
       "      load_libs(js_urls, function() {\n",
       "        console.log(\"Bokeh: BokehJS plotting callback run at\", now());\n",
       "        run_inline_js();\n",
       "      });\n",
       "    }\n",
       "  }(this));\n",
       "</script>"
      ]
     },
     "metadata": {},
     "output_type": "display_data"
    }
   ],
   "source": [
    "show(p)"
   ]
  },
  {
   "cell_type": "markdown",
   "metadata": {
    "deletable": true,
    "editable": true
   },
   "source": [
    "And thats it! :-) "
   ]
  }
 ],
 "metadata": {
  "kernelspec": {
   "display_name": "Python 2",
   "language": "python",
   "name": "python2"
  },
  "language_info": {
   "codemirror_mode": {
    "name": "ipython",
    "version": 2
   },
   "file_extension": ".py",
   "mimetype": "text/x-python",
   "name": "python",
   "nbconvert_exporter": "python",
   "pygments_lexer": "ipython2",
   "version": "2.7.13"
  }
 },
 "nbformat": 4,
 "nbformat_minor": 2
}
